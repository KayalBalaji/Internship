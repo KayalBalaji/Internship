{
 "cells": [
  {
   "cell_type": "code",
   "execution_count": 3,
   "id": "1d23b5e4",
   "metadata": {},
   "outputs": [
    {
     "name": "stdout",
     "output_type": "stream",
     "text": [
      "Requirement already satisfied: selenium in c:\\users\\hello world\\anaconda3\\lib\\site-packages (4.4.3)\n",
      "Requirement already satisfied: urllib3[socks]~=1.26 in c:\\users\\hello world\\anaconda3\\lib\\site-packages (from selenium) (1.26.9)\n",
      "Requirement already satisfied: trio~=0.17 in c:\\users\\hello world\\anaconda3\\lib\\site-packages (from selenium) (0.21.0)\n",
      "Requirement already satisfied: trio-websocket~=0.9 in c:\\users\\hello world\\anaconda3\\lib\\site-packages (from selenium) (0.9.2)\n",
      "Requirement already satisfied: certifi>=2021.10.8 in c:\\users\\hello world\\anaconda3\\lib\\site-packages (from selenium) (2021.10.8)\n",
      "Requirement already satisfied: sniffio in c:\\users\\hello world\\anaconda3\\lib\\site-packages (from trio~=0.17->selenium) (1.2.0)\n",
      "Requirement already satisfied: async-generator>=1.9 in c:\\users\\hello world\\anaconda3\\lib\\site-packages (from trio~=0.17->selenium) (1.10)\n",
      "Requirement already satisfied: outcome in c:\\users\\hello world\\anaconda3\\lib\\site-packages (from trio~=0.17->selenium) (1.2.0)\n",
      "Requirement already satisfied: cffi>=1.14 in c:\\users\\hello world\\anaconda3\\lib\\site-packages (from trio~=0.17->selenium) (1.15.0)\n",
      "Requirement already satisfied: sortedcontainers in c:\\users\\hello world\\anaconda3\\lib\\site-packages (from trio~=0.17->selenium) (2.4.0)\n",
      "Requirement already satisfied: attrs>=19.2.0 in c:\\users\\hello world\\anaconda3\\lib\\site-packages (from trio~=0.17->selenium) (21.4.0)\n",
      "Requirement already satisfied: idna in c:\\users\\hello world\\anaconda3\\lib\\site-packages (from trio~=0.17->selenium) (3.3)\n",
      "Requirement already satisfied: pycparser in c:\\users\\hello world\\anaconda3\\lib\\site-packages (from cffi>=1.14->trio~=0.17->selenium) (2.21)\n",
      "Requirement already satisfied: wsproto>=0.14 in c:\\users\\hello world\\anaconda3\\lib\\site-packages (from trio-websocket~=0.9->selenium) (1.2.0)\n",
      "Requirement already satisfied: PySocks!=1.5.7,<2.0,>=1.5.6 in c:\\users\\hello world\\anaconda3\\lib\\site-packages (from urllib3[socks]~=1.26->selenium) (1.7.1)\n",
      "Requirement already satisfied: h11<1,>=0.9.0 in c:\\users\\hello world\\anaconda3\\lib\\site-packages (from wsproto>=0.14->trio-websocket~=0.9->selenium) (0.14.0)\n"
     ]
    }
   ],
   "source": [
    "!pip install selenium"
   ]
  },
  {
   "cell_type": "code",
   "execution_count": null,
   "id": "afecda09",
   "metadata": {},
   "outputs": [],
   "source": []
  },
  {
   "cell_type": "code",
   "execution_count": 4,
   "id": "e6133ee4",
   "metadata": {},
   "outputs": [],
   "source": [
    "import selenium\n",
    "import pandas as pd\n",
    "from selenium import webdriver\n",
    "import warnings\n",
    "warnings.filterwarnings('ignore')\n",
    "from selenium.common.exceptions import StaleElementReferenceException, NoSuchElementException\n",
    "from selenium.webdriver.common.by import By\n",
    "import time"
   ]
  },
  {
   "cell_type": "code",
   "execution_count": null,
   "id": "155c3d7c",
   "metadata": {},
   "outputs": [],
   "source": []
  },
  {
   "cell_type": "markdown",
   "id": "dd14fb60",
   "metadata": {},
   "source": [
    "1) Scrap first 10 details of the Job Data Analyst in Bangalore location from naukri.com"
   ]
  },
  {
   "cell_type": "code",
   "execution_count": 9,
   "id": "edea874c",
   "metadata": {},
   "outputs": [],
   "source": [
    "# Lets first connect to the webdriver\n",
    "\n",
    "driver=webdriver.Chrome(r\"C:\\Users\\Hello world\\Downloads\\chromedriver_win32\\chromedriver.exe\")"
   ]
  },
  {
   "cell_type": "code",
   "execution_count": 10,
   "id": "a134f158",
   "metadata": {},
   "outputs": [],
   "source": [
    "driver.get(\"https://www.naukri.com/\")"
   ]
  },
  {
   "cell_type": "code",
   "execution_count": 11,
   "id": "8e5cedfb",
   "metadata": {},
   "outputs": [],
   "source": [
    "designation=driver.find_element(By.CLASS_NAME, \"suggestor-input \")\n",
    "designation.send_keys('Data Analyst')"
   ]
  },
  {
   "cell_type": "code",
   "execution_count": 12,
   "id": "458f6d06",
   "metadata": {},
   "outputs": [],
   "source": [
    "location=driver.find_element(By.XPATH,\"/html/body/div[1]/div[6]/div/div/div[5]/div/div/div/input\")\n",
    "location.send_keys('Bangalore')"
   ]
  },
  {
   "cell_type": "code",
   "execution_count": 13,
   "id": "929fb611",
   "metadata": {},
   "outputs": [],
   "source": [
    "search=driver.find_element(By.CLASS_NAME,\"qsbSubmit\")\n",
    "search.click()"
   ]
  },
  {
   "cell_type": "code",
   "execution_count": 20,
   "id": "8862f518",
   "metadata": {},
   "outputs": [],
   "source": [
    "# We need to scrap\n",
    "\n",
    "job_title=[]\n",
    "job_location=[]\n",
    "company_name=[]\n",
    "experience_required=[]"
   ]
  },
  {
   "cell_type": "code",
   "execution_count": 21,
   "id": "05dcb2f6",
   "metadata": {},
   "outputs": [],
   "source": [
    "# scraping job title from the website\n",
    "title_tags=driver.find_elements(By.XPATH,'//a[@class=\"title fw500 ellipsis\"]')\n",
    "for i in title_tags[0:10]:\n",
    "    title=i.text\n",
    "    job_title.append(title)\n",
    "    \n",
    "# scraping company name from the website\n",
    "company_tags=driver.find_elements(By.XPATH,'//a[@class=\"subTitle ellipsis fleft\"]')\n",
    "for i in company_tags[0:10]:\n",
    "    company=i.text\n",
    "    company_name.append(company)\n",
    "\n",
    "# Scraping Job experience from the given page\n",
    "experience_tags=driver.find_elements(By.XPATH,'//li[@class=\"fleft grey-text br2 placeHolderLi experience\"]')\n",
    "for i in experience_tags[0:10]:\n",
    "    exp=i.text\n",
    "    experience_required.append(exp)\n",
    "    \n",
    "\n",
    "# scraping Job location from the given page\n",
    "location_tags=driver.find_elements(By.XPATH,'//li[@class=\"fleft grey-text br2 placeHolderLi location\"]')\n",
    "for i in location_tags[0:10]:\n",
    "    location=i.text\n",
    "    job_location.append(location)\n"
   ]
  },
  {
   "cell_type": "code",
   "execution_count": 22,
   "id": "ff532001",
   "metadata": {},
   "outputs": [
    {
     "name": "stdout",
     "output_type": "stream",
     "text": [
      "9 12 19 12\n"
     ]
    }
   ],
   "source": [
    "print(len('job_title'),len('company_name'),len('experience_required'),len('job_location'))"
   ]
  },
  {
   "cell_type": "markdown",
   "id": "fc922757",
   "metadata": {},
   "source": [
    "NOTE: DataFrame is printed correctly even though length of the datas are shown wrongly in the output of len function in all answers."
   ]
  },
  {
   "cell_type": "code",
   "execution_count": 23,
   "id": "f3bcadcc",
   "metadata": {},
   "outputs": [
    {
     "data": {
      "text/html": [
       "<div>\n",
       "<style scoped>\n",
       "    .dataframe tbody tr th:only-of-type {\n",
       "        vertical-align: middle;\n",
       "    }\n",
       "\n",
       "    .dataframe tbody tr th {\n",
       "        vertical-align: top;\n",
       "    }\n",
       "\n",
       "    .dataframe thead th {\n",
       "        text-align: right;\n",
       "    }\n",
       "</style>\n",
       "<table border=\"1\" class=\"dataframe\">\n",
       "  <thead>\n",
       "    <tr style=\"text-align: right;\">\n",
       "      <th></th>\n",
       "      <th>Job_title</th>\n",
       "      <th>Company_name</th>\n",
       "      <th>Experience_required</th>\n",
       "      <th>Job_location</th>\n",
       "    </tr>\n",
       "  </thead>\n",
       "  <tbody>\n",
       "    <tr>\n",
       "      <th>0</th>\n",
       "      <td>Data Analyst - CRM Platform</td>\n",
       "      <td>Artech infosystem</td>\n",
       "      <td>1-6 Yrs</td>\n",
       "      <td>Bangalore/Bengaluru, Mumbai, Hyderabad/Secunde...</td>\n",
       "    </tr>\n",
       "    <tr>\n",
       "      <th>1</th>\n",
       "      <td>Senior Data Analyst</td>\n",
       "      <td>TEKsystems</td>\n",
       "      <td>7-10 Yrs</td>\n",
       "      <td>Bangalore/Bengaluru</td>\n",
       "    </tr>\n",
       "    <tr>\n",
       "      <th>2</th>\n",
       "      <td>Senior Data Analyst</td>\n",
       "      <td>Goalreify Ventures</td>\n",
       "      <td>3-6 Yrs</td>\n",
       "      <td>Bangalore/Bengaluru</td>\n",
       "    </tr>\n",
       "    <tr>\n",
       "      <th>3</th>\n",
       "      <td>Senior Data Analyst</td>\n",
       "      <td>Goalreify Ventures</td>\n",
       "      <td>4-6 Yrs</td>\n",
       "      <td>Bangalore/Bengaluru</td>\n",
       "    </tr>\n",
       "    <tr>\n",
       "      <th>4</th>\n",
       "      <td>Senior Data Analyst | Fortune500 Retail Company</td>\n",
       "      <td>Talent500</td>\n",
       "      <td>3-8 Yrs</td>\n",
       "      <td>Bangalore/Bengaluru</td>\n",
       "    </tr>\n",
       "    <tr>\n",
       "      <th>5</th>\n",
       "      <td>Senior Data Analyst | Fortune500 Retail Company</td>\n",
       "      <td>Talent500</td>\n",
       "      <td>3-5 Yrs</td>\n",
       "      <td>Bangalore/Bengaluru</td>\n",
       "    </tr>\n",
       "    <tr>\n",
       "      <th>6</th>\n",
       "      <td>Senior Data Analyst</td>\n",
       "      <td>nurture.farm</td>\n",
       "      <td>3-8 Yrs</td>\n",
       "      <td>Bangalore/Bengaluru</td>\n",
       "    </tr>\n",
       "    <tr>\n",
       "      <th>7</th>\n",
       "      <td>Senior Data Analyst</td>\n",
       "      <td>Walmart</td>\n",
       "      <td>6-10 Yrs</td>\n",
       "      <td>Bangalore/Bengaluru</td>\n",
       "    </tr>\n",
       "    <tr>\n",
       "      <th>8</th>\n",
       "      <td>Senior Data Management Analyst</td>\n",
       "      <td>Wells Fargo</td>\n",
       "      <td>4-7 Yrs</td>\n",
       "      <td>Bangalore/Bengaluru</td>\n",
       "    </tr>\n",
       "    <tr>\n",
       "      <th>9</th>\n",
       "      <td>Senior Lead Data Management Analyst</td>\n",
       "      <td>Wells Fargo</td>\n",
       "      <td>7-10 Yrs</td>\n",
       "      <td>Bangalore/Bengaluru, Hyderabad/Secunderabad</td>\n",
       "    </tr>\n",
       "  </tbody>\n",
       "</table>\n",
       "</div>"
      ],
      "text/plain": [
       "                                         Job_title        Company_name  \\\n",
       "0                      Data Analyst - CRM Platform   Artech infosystem   \n",
       "1                              Senior Data Analyst          TEKsystems   \n",
       "2                              Senior Data Analyst  Goalreify Ventures   \n",
       "3                              Senior Data Analyst  Goalreify Ventures   \n",
       "4  Senior Data Analyst | Fortune500 Retail Company           Talent500   \n",
       "5  Senior Data Analyst | Fortune500 Retail Company           Talent500   \n",
       "6                              Senior Data Analyst        nurture.farm   \n",
       "7                              Senior Data Analyst             Walmart   \n",
       "8                   Senior Data Management Analyst         Wells Fargo   \n",
       "9              Senior Lead Data Management Analyst         Wells Fargo   \n",
       "\n",
       "  Experience_required                                       Job_location  \n",
       "0             1-6 Yrs  Bangalore/Bengaluru, Mumbai, Hyderabad/Secunde...  \n",
       "1            7-10 Yrs                                Bangalore/Bengaluru  \n",
       "2             3-6 Yrs                                Bangalore/Bengaluru  \n",
       "3             4-6 Yrs                                Bangalore/Bengaluru  \n",
       "4             3-8 Yrs                                Bangalore/Bengaluru  \n",
       "5             3-5 Yrs                                Bangalore/Bengaluru  \n",
       "6             3-8 Yrs                                Bangalore/Bengaluru  \n",
       "7            6-10 Yrs                                Bangalore/Bengaluru  \n",
       "8             4-7 Yrs                                Bangalore/Bengaluru  \n",
       "9            7-10 Yrs        Bangalore/Bengaluru, Hyderabad/Secunderabad  "
      ]
     },
     "execution_count": 23,
     "metadata": {},
     "output_type": "execute_result"
    }
   ],
   "source": [
    "df=pd.DataFrame({'Job_title':job_title,'Company_name':company_name,'Experience_required':experience_required,'Job_location':job_location})\n",
    "df"
   ]
  },
  {
   "cell_type": "code",
   "execution_count": null,
   "id": "05fa50e2",
   "metadata": {},
   "outputs": [],
   "source": []
  },
  {
   "cell_type": "markdown",
   "id": "dba63bbe",
   "metadata": {},
   "source": [
    "2) Scrap first 10 details of Data Scientist in Bangalore location naukri website."
   ]
  },
  {
   "cell_type": "code",
   "execution_count": 56,
   "id": "9bdb1785",
   "metadata": {},
   "outputs": [],
   "source": [
    "driver=webdriver.Chrome(r\"C:\\Users\\Hello world\\Downloads\\chromedriver_win32\\chromedriver.exe\")"
   ]
  },
  {
   "cell_type": "code",
   "execution_count": 57,
   "id": "a75f38a3",
   "metadata": {},
   "outputs": [],
   "source": [
    "driver.get(\"https://www.naukri.com/\")"
   ]
  },
  {
   "cell_type": "code",
   "execution_count": 58,
   "id": "f477903a",
   "metadata": {},
   "outputs": [],
   "source": [
    "designation=driver.find_element(By.CLASS_NAME, \"suggestor-input\")\n",
    "designation.send_keys('Data Scientist')"
   ]
  },
  {
   "cell_type": "code",
   "execution_count": 59,
   "id": "a843ac73",
   "metadata": {},
   "outputs": [],
   "source": [
    "location=driver.find_element(By.XPATH,\"/html/body/div[1]/div[6]/div/div/div[5]/div/div/div/input\")\n",
    "location.send_keys('Bangalore')"
   ]
  },
  {
   "cell_type": "code",
   "execution_count": 60,
   "id": "0d47db94",
   "metadata": {},
   "outputs": [],
   "source": [
    "search=driver.find_element(By.CLASS_NAME,\"qsbSubmit\")\n",
    "search.click()"
   ]
  },
  {
   "cell_type": "code",
   "execution_count": 84,
   "id": "600e1130",
   "metadata": {},
   "outputs": [],
   "source": [
    "# We need to scrap\n",
    "\n",
    "job_title1=[]\n",
    "job_location1=[]\n",
    "company_name1=[]"
   ]
  },
  {
   "cell_type": "code",
   "execution_count": 85,
   "id": "dafc5365",
   "metadata": {},
   "outputs": [],
   "source": [
    "# scraping job title from the website\n",
    "title_tags=driver.find_elements(By.XPATH,'//a[@class=\"title fw500 ellipsis\"]')\n",
    "for i in title_tags[0:10]:\n",
    "    title1=i.text\n",
    "    job_title1.append(title1)\n",
    "    \n",
    "# scraping Job location from the given page\n",
    "location_tags=driver.find_elements(By.XPATH,'//li[@class=\"fleft grey-text br2 placeHolderLi location\"]')\n",
    "for j in location_tags[0:10]:\n",
    "    location1=j.text\n",
    "    job_location1.append(location1)\n",
    "    \n",
    "# scraping company name from the website\n",
    "company_tags=driver.find_elements(By.XPATH,'//a[@class=\"subTitle ellipsis fleft\"]')\n",
    "for k in company_tags[0:10]:\n",
    "    company1=k.text\n",
    "    company_name1.append(company1)"
   ]
  },
  {
   "cell_type": "code",
   "execution_count": 86,
   "id": "81109421",
   "metadata": {},
   "outputs": [
    {
     "name": "stdout",
     "output_type": "stream",
     "text": [
      "10 13 13\n"
     ]
    }
   ],
   "source": [
    "print(len('job_title1'),len('job_location1'),len('company_name1'))"
   ]
  },
  {
   "cell_type": "code",
   "execution_count": 87,
   "id": "715c5689",
   "metadata": {},
   "outputs": [
    {
     "data": {
      "text/html": [
       "<div>\n",
       "<style scoped>\n",
       "    .dataframe tbody tr th:only-of-type {\n",
       "        vertical-align: middle;\n",
       "    }\n",
       "\n",
       "    .dataframe tbody tr th {\n",
       "        vertical-align: top;\n",
       "    }\n",
       "\n",
       "    .dataframe thead th {\n",
       "        text-align: right;\n",
       "    }\n",
       "</style>\n",
       "<table border=\"1\" class=\"dataframe\">\n",
       "  <thead>\n",
       "    <tr style=\"text-align: right;\">\n",
       "      <th></th>\n",
       "      <th>Job_title</th>\n",
       "      <th>Job_location</th>\n",
       "      <th>Company_name</th>\n",
       "    </tr>\n",
       "  </thead>\n",
       "  <tbody>\n",
       "    <tr>\n",
       "      <th>0</th>\n",
       "      <td>Data Science Specialist</td>\n",
       "      <td>Bangalore/Bengaluru, Kolkata, Mumbai, Hyderaba...</td>\n",
       "      <td>Accenture</td>\n",
       "    </tr>\n",
       "    <tr>\n",
       "      <th>1</th>\n",
       "      <td>Data Science Manager</td>\n",
       "      <td>Bangalore/Bengaluru, Kolkata, Mumbai, Hyderaba...</td>\n",
       "      <td>Accenture</td>\n",
       "    </tr>\n",
       "    <tr>\n",
       "      <th>2</th>\n",
       "      <td>Mongodb Database Administrator, Maria DB or Ca...</td>\n",
       "      <td>Bangalore/Bengaluru, Hyderabad/Secunderabad, P...</td>\n",
       "      <td>Mphasis</td>\n",
       "    </tr>\n",
       "    <tr>\n",
       "      <th>3</th>\n",
       "      <td>Analystics &amp; Modeling Specialist</td>\n",
       "      <td>Bangalore/Bengaluru, Kolkata, Mumbai, Hyderaba...</td>\n",
       "      <td>Accenture</td>\n",
       "    </tr>\n",
       "    <tr>\n",
       "      <th>4</th>\n",
       "      <td>Senior Data Scientist</td>\n",
       "      <td>Bangalore/Bengaluru, Mumbai, New Delhi, Chennai</td>\n",
       "      <td>Boston Consulting Group</td>\n",
       "    </tr>\n",
       "    <tr>\n",
       "      <th>5</th>\n",
       "      <td>Assistant Manager - Data Science</td>\n",
       "      <td>Bangalore/Bengaluru, Mumbai, Pune</td>\n",
       "      <td>CitiusTech</td>\n",
       "    </tr>\n",
       "    <tr>\n",
       "      <th>6</th>\n",
       "      <td>Data Scientist</td>\n",
       "      <td>Bangalore/Bengaluru, Hyderabad/Secunderabad, P...</td>\n",
       "      <td>Tech Mahindra</td>\n",
       "    </tr>\n",
       "    <tr>\n",
       "      <th>7</th>\n",
       "      <td>Opportunity For Senior Data Scientist/ Busines...</td>\n",
       "      <td>Bangalore/Bengaluru, Gurgaon/Gurugram, Delhi /...</td>\n",
       "      <td>PayU</td>\n",
       "    </tr>\n",
       "    <tr>\n",
       "      <th>8</th>\n",
       "      <td>Exciting opportunity For model monitoring/mode...</td>\n",
       "      <td>Bangalore/Bengaluru, New Delhi, Gurgaon/Gurugr...</td>\n",
       "      <td>EXL</td>\n",
       "    </tr>\n",
       "    <tr>\n",
       "      <th>9</th>\n",
       "      <td>Data Scientist: Artificial Intelligence</td>\n",
       "      <td>Bangalore/Bengaluru</td>\n",
       "      <td>IBM</td>\n",
       "    </tr>\n",
       "  </tbody>\n",
       "</table>\n",
       "</div>"
      ],
      "text/plain": [
       "                                           Job_title  \\\n",
       "0                            Data Science Specialist   \n",
       "1                               Data Science Manager   \n",
       "2  Mongodb Database Administrator, Maria DB or Ca...   \n",
       "3                   Analystics & Modeling Specialist   \n",
       "4                              Senior Data Scientist   \n",
       "5                   Assistant Manager - Data Science   \n",
       "6                                     Data Scientist   \n",
       "7  Opportunity For Senior Data Scientist/ Busines...   \n",
       "8  Exciting opportunity For model monitoring/mode...   \n",
       "9            Data Scientist: Artificial Intelligence   \n",
       "\n",
       "                                        Job_location             Company_name  \n",
       "0  Bangalore/Bengaluru, Kolkata, Mumbai, Hyderaba...                Accenture  \n",
       "1  Bangalore/Bengaluru, Kolkata, Mumbai, Hyderaba...                Accenture  \n",
       "2  Bangalore/Bengaluru, Hyderabad/Secunderabad, P...                  Mphasis  \n",
       "3  Bangalore/Bengaluru, Kolkata, Mumbai, Hyderaba...                Accenture  \n",
       "4    Bangalore/Bengaluru, Mumbai, New Delhi, Chennai  Boston Consulting Group  \n",
       "5                  Bangalore/Bengaluru, Mumbai, Pune               CitiusTech  \n",
       "6  Bangalore/Bengaluru, Hyderabad/Secunderabad, P...            Tech Mahindra  \n",
       "7  Bangalore/Bengaluru, Gurgaon/Gurugram, Delhi /...                     PayU  \n",
       "8  Bangalore/Bengaluru, New Delhi, Gurgaon/Gurugr...                      EXL  \n",
       "9                                Bangalore/Bengaluru                      IBM  "
      ]
     },
     "execution_count": 87,
     "metadata": {},
     "output_type": "execute_result"
    }
   ],
   "source": [
    "df=pd.DataFrame({'Job_title':job_title1,'Job_location':job_location1,'Company_name':company_name1})\n",
    "df"
   ]
  },
  {
   "cell_type": "code",
   "execution_count": null,
   "id": "472891fc",
   "metadata": {},
   "outputs": [],
   "source": []
  },
  {
   "cell_type": "markdown",
   "id": "d35442a9",
   "metadata": {},
   "source": [
    "3) Scraping data by applying filters for location and salary for a given webpage."
   ]
  },
  {
   "cell_type": "code",
   "execution_count": 94,
   "id": "a9f9122f",
   "metadata": {},
   "outputs": [],
   "source": [
    "driver=webdriver.Chrome(r\"C:\\Users\\Hello world\\Downloads\\chromedriver_win32\\chromedriver.exe\")"
   ]
  },
  {
   "cell_type": "code",
   "execution_count": 95,
   "id": "f1604bda",
   "metadata": {},
   "outputs": [],
   "source": [
    "driver.get(\"https://www.naukri.com/\")"
   ]
  },
  {
   "cell_type": "code",
   "execution_count": 96,
   "id": "b48afcd0",
   "metadata": {},
   "outputs": [],
   "source": [
    "designation=driver.find_element(By.CLASS_NAME, \"suggestor-input\")\n",
    "designation.send_keys('Data Scientist')"
   ]
  },
  {
   "cell_type": "code",
   "execution_count": 97,
   "id": "3782f9c1",
   "metadata": {},
   "outputs": [],
   "source": [
    "search=driver.find_element(By.CLASS_NAME,\"qsbSubmit\")\n",
    "search.click()"
   ]
  },
  {
   "cell_type": "code",
   "execution_count": 98,
   "id": "2599702a",
   "metadata": {},
   "outputs": [],
   "source": [
    "# We need to scrap\n",
    "\n",
    "job_title2=[]\n",
    "job_location2=[]\n",
    "company_name2=[]\n",
    "experience_required2=[]"
   ]
  },
  {
   "cell_type": "code",
   "execution_count": 99,
   "id": "e4dcb901",
   "metadata": {},
   "outputs": [],
   "source": [
    "# scraping job title from the website\n",
    "title_tags=driver.find_elements(By.XPATH,'//a[@class=\"title fw500 ellipsis\"]')\n",
    "for i in title_tags[0:10]:\n",
    "    title=i.text\n",
    "    job_title2.append(title)\n",
    "\n",
    "# scraping Job location from the given page\n",
    "location_tags=driver.find_elements(By.XPATH,'//li[@class=\"fleft grey-text br2 placeHolderLi location\"]')\n",
    "for j in location_tags[0:10]:\n",
    "    location=j.text\n",
    "    job_location2.append(location)\n",
    "\n",
    "# scraping company name from the website\n",
    "company_tags=driver.find_elements(By.XPATH,'//a[@class=\"subTitle ellipsis fleft\"]')\n",
    "for k in company_tags[0:10]:\n",
    "    company=k.text\n",
    "    company_name2.append(company)\n",
    "\n",
    "# Scraping Job experience from the given page\n",
    "experience_tags=driver.find_elements(By.XPATH,'//li[@class=\"fleft grey-text br2 placeHolderLi experience\"]')\n",
    "for l in experience_tags[0:10]:\n",
    "    exp=l.text\n",
    "    experience_required2.append(exp)"
   ]
  },
  {
   "cell_type": "code",
   "execution_count": 100,
   "id": "ded7d653",
   "metadata": {},
   "outputs": [
    {
     "name": "stdout",
     "output_type": "stream",
     "text": [
      "10 13 13 20\n"
     ]
    }
   ],
   "source": [
    "print(len('job_title2'),len('job_location2'),len('company_name2'),len('experience_required2'))"
   ]
  },
  {
   "cell_type": "code",
   "execution_count": 101,
   "id": "5e96287d",
   "metadata": {},
   "outputs": [
    {
     "data": {
      "text/html": [
       "<div>\n",
       "<style scoped>\n",
       "    .dataframe tbody tr th:only-of-type {\n",
       "        vertical-align: middle;\n",
       "    }\n",
       "\n",
       "    .dataframe tbody tr th {\n",
       "        vertical-align: top;\n",
       "    }\n",
       "\n",
       "    .dataframe thead th {\n",
       "        text-align: right;\n",
       "    }\n",
       "</style>\n",
       "<table border=\"1\" class=\"dataframe\">\n",
       "  <thead>\n",
       "    <tr style=\"text-align: right;\">\n",
       "      <th></th>\n",
       "      <th>Job_title</th>\n",
       "      <th>Job_location</th>\n",
       "      <th>Company_name</th>\n",
       "      <th>Experience_required</th>\n",
       "    </tr>\n",
       "  </thead>\n",
       "  <tbody>\n",
       "    <tr>\n",
       "      <th>0</th>\n",
       "      <td>Data Scientist</td>\n",
       "      <td>Noida, Nagpur, Bangalore/Bengaluru</td>\n",
       "      <td>GlobalLogic</td>\n",
       "      <td>8-10 Yrs</td>\n",
       "    </tr>\n",
       "    <tr>\n",
       "      <th>1</th>\n",
       "      <td>DigitalBCG GAMMA Data Scientist</td>\n",
       "      <td>New Delhi, Bangalore/Bengaluru</td>\n",
       "      <td>Boston Consulting Group</td>\n",
       "      <td>2-5 Yrs</td>\n",
       "    </tr>\n",
       "    <tr>\n",
       "      <th>2</th>\n",
       "      <td>Data Scientist</td>\n",
       "      <td>Gurgaon/Gurugram</td>\n",
       "      <td>IHS Markit</td>\n",
       "      <td>3-6 Yrs</td>\n",
       "    </tr>\n",
       "    <tr>\n",
       "      <th>3</th>\n",
       "      <td>Lead Data Scientist</td>\n",
       "      <td>Noida(Sector-59 Noida)\\n(WFH during Covid)</td>\n",
       "      <td>R Systems International</td>\n",
       "      <td>7-10 Yrs</td>\n",
       "    </tr>\n",
       "    <tr>\n",
       "      <th>4</th>\n",
       "      <td>Data Scientist - Engine Algorithm</td>\n",
       "      <td>Delhi / NCR, Kolkata, Mumbai, Hyderabad/Secund...</td>\n",
       "      <td>Primo Hiring</td>\n",
       "      <td>1-3 Yrs</td>\n",
       "    </tr>\n",
       "    <tr>\n",
       "      <th>5</th>\n",
       "      <td>Data Scientist</td>\n",
       "      <td>Gurgaon/Gurugram</td>\n",
       "      <td>Optum</td>\n",
       "      <td>2-7 Yrs</td>\n",
       "    </tr>\n",
       "    <tr>\n",
       "      <th>6</th>\n",
       "      <td>Data Scientist / Chat-bot Developer</td>\n",
       "      <td>New Delhi, Bangalore/Bengaluru, Mumbai (All Ar...</td>\n",
       "      <td>Big Seo Buzz</td>\n",
       "      <td>3-7 Yrs</td>\n",
       "    </tr>\n",
       "    <tr>\n",
       "      <th>7</th>\n",
       "      <td>Data Activation Specialist - Adobe Target</td>\n",
       "      <td>Delhi / NCR, Kolkata, Mumbai, Hyderabad/Secund...</td>\n",
       "      <td>Okda Solutions</td>\n",
       "      <td>7-10 Yrs</td>\n",
       "    </tr>\n",
       "    <tr>\n",
       "      <th>8</th>\n",
       "      <td>Data Scientist</td>\n",
       "      <td>Noida</td>\n",
       "      <td>NGI Ventures</td>\n",
       "      <td>0-5 Yrs</td>\n",
       "    </tr>\n",
       "    <tr>\n",
       "      <th>9</th>\n",
       "      <td>Data Scientist</td>\n",
       "      <td>Dehradun, Hyderabad/Secunderabad, Gurgaon/Guru...</td>\n",
       "      <td>torcai digital media</td>\n",
       "      <td>2-7 Yrs</td>\n",
       "    </tr>\n",
       "  </tbody>\n",
       "</table>\n",
       "</div>"
      ],
      "text/plain": [
       "                                   Job_title  \\\n",
       "0                             Data Scientist   \n",
       "1            DigitalBCG GAMMA Data Scientist   \n",
       "2                             Data Scientist   \n",
       "3                        Lead Data Scientist   \n",
       "4          Data Scientist - Engine Algorithm   \n",
       "5                             Data Scientist   \n",
       "6        Data Scientist / Chat-bot Developer   \n",
       "7  Data Activation Specialist - Adobe Target   \n",
       "8                             Data Scientist   \n",
       "9                             Data Scientist   \n",
       "\n",
       "                                        Job_location             Company_name  \\\n",
       "0                 Noida, Nagpur, Bangalore/Bengaluru              GlobalLogic   \n",
       "1                     New Delhi, Bangalore/Bengaluru  Boston Consulting Group   \n",
       "2                                   Gurgaon/Gurugram               IHS Markit   \n",
       "3         Noida(Sector-59 Noida)\\n(WFH during Covid)  R Systems International   \n",
       "4  Delhi / NCR, Kolkata, Mumbai, Hyderabad/Secund...             Primo Hiring   \n",
       "5                                   Gurgaon/Gurugram                    Optum   \n",
       "6  New Delhi, Bangalore/Bengaluru, Mumbai (All Ar...             Big Seo Buzz   \n",
       "7  Delhi / NCR, Kolkata, Mumbai, Hyderabad/Secund...           Okda Solutions   \n",
       "8                                              Noida             NGI Ventures   \n",
       "9  Dehradun, Hyderabad/Secunderabad, Gurgaon/Guru...     torcai digital media   \n",
       "\n",
       "  Experience_required  \n",
       "0            8-10 Yrs  \n",
       "1             2-5 Yrs  \n",
       "2             3-6 Yrs  \n",
       "3            7-10 Yrs  \n",
       "4             1-3 Yrs  \n",
       "5             2-7 Yrs  \n",
       "6             3-7 Yrs  \n",
       "7            7-10 Yrs  \n",
       "8             0-5 Yrs  \n",
       "9             2-7 Yrs  "
      ]
     },
     "execution_count": 101,
     "metadata": {},
     "output_type": "execute_result"
    }
   ],
   "source": [
    "df=pd.DataFrame({'Job_title':job_title2,'Job_location':job_location2,'Company_name':company_name2,'Experience_required':experience_required2})\n",
    "df"
   ]
  },
  {
   "cell_type": "code",
   "execution_count": null,
   "id": "029e6f29",
   "metadata": {},
   "outputs": [],
   "source": []
  },
  {
   "cell_type": "code",
   "execution_count": null,
   "id": "249b34b8",
   "metadata": {},
   "outputs": [],
   "source": []
  },
  {
   "cell_type": "markdown",
   "id": "59f14ef2",
   "metadata": {},
   "source": [
    "4) Scraping datas of first 100 sunglasses listings on flipkart.com"
   ]
  },
  {
   "cell_type": "code",
   "execution_count": 313,
   "id": "665f519c",
   "metadata": {},
   "outputs": [],
   "source": [
    "driver=webdriver.Chrome(r\"C:\\Users\\Hello world\\Downloads\\chromedriver_win32\\chromedriver.exe\")"
   ]
  },
  {
   "cell_type": "code",
   "execution_count": 314,
   "id": "0f339f11",
   "metadata": {},
   "outputs": [],
   "source": [
    "driver.get(\"https://www.flipkart.com/\")"
   ]
  },
  {
   "cell_type": "code",
   "execution_count": 315,
   "id": "7a86960f",
   "metadata": {},
   "outputs": [],
   "source": [
    "Product=driver.find_element(By.XPATH,\"/html/body/div[1]/div/div[1]/div[1]/div[2]/div[2]/form/div/div/input\")\n",
    "Product.send_keys('Sunglasses')"
   ]
  },
  {
   "cell_type": "code",
   "execution_count": 316,
   "id": "23643fcd",
   "metadata": {},
   "outputs": [],
   "source": [
    "Search=driver.find_element(By.XPATH,'/html/body/div[1]/div/div[1]/div[1]/div[2]/div[2]/form/div/button')\n",
    "Search.click()"
   ]
  },
  {
   "cell_type": "code",
   "execution_count": 317,
   "id": "77aefd26",
   "metadata": {},
   "outputs": [],
   "source": [
    "# we need to scrap\n",
    "product_name=[]\n",
    "Product_Description=[]\n",
    "Price=[]"
   ]
  },
  {
   "cell_type": "code",
   "execution_count": 319,
   "id": "973c3cfe",
   "metadata": {},
   "outputs": [],
   "source": [
    "product_name=[]\n",
    "\n",
    "for page in range(0,3):\n",
    "    name=driver.find_elements(By.XPATH,'//div[@class=\"_2WkVRV\"]')\n",
    "    for i in name:\n",
    "        product_name.append(i.text)\n",
    "    nxt_button=driver.find_element(By.XPATH,'//a[@class=\"_1LKTO3\"]')\n",
    "    nxt_button.click()\n",
    "    time.sleep(2)"
   ]
  },
  {
   "cell_type": "code",
   "execution_count": 320,
   "id": "c44449fa",
   "metadata": {},
   "outputs": [
    {
     "data": {
      "text/plain": [
       "120"
      ]
     },
     "execution_count": 320,
     "metadata": {},
     "output_type": "execute_result"
    }
   ],
   "source": [
    "len(product_name)"
   ]
  },
  {
   "cell_type": "code",
   "execution_count": 321,
   "id": "e5eac0f6",
   "metadata": {},
   "outputs": [
    {
     "data": {
      "text/plain": [
       "['FOSSIL',\n",
       " 'FOSSIL',\n",
       " 'Fastrack',\n",
       " 'SHAAH COLLECTIONS',\n",
       " 'NuVew',\n",
       " 'SHAAH COLLECTIONS',\n",
       " 'Fastrack',\n",
       " 'FOSSIL',\n",
       " 'Bedst',\n",
       " 'SHAAH COLLECTIONS',\n",
       " 'SHAAH COLLECTIONS',\n",
       " 'OAKLEY',\n",
       " 'MODE',\n",
       " 'NuVew',\n",
       " 'SHAAH COLLECTIONS',\n",
       " 'OAKLEY',\n",
       " 'Fastrack',\n",
       " 'Fastrack',\n",
       " 'NuVew',\n",
       " 'RED MONK',\n",
       " 'PIRASO',\n",
       " 'Fastrack',\n",
       " 'SUNBEE',\n",
       " 'OAKLEY',\n",
       " 'Fastrack',\n",
       " 'Fastrack',\n",
       " 'Fastrack',\n",
       " 'CARRERA',\n",
       " 'PIRASO',\n",
       " 'Fastrack',\n",
       " 'Mi',\n",
       " 'OAKLEY',\n",
       " 'ROYAL SON',\n",
       " 'SHAAH COLLECTIONS',\n",
       " 'Fastrack',\n",
       " 'OAKLEY',\n",
       " 'SHAAH COLLECTIONS',\n",
       " 'PIRASO',\n",
       " 'New Specs',\n",
       " 'CARRERA',\n",
       " 'LIZA ANGEL',\n",
       " 'ROYAL SON',\n",
       " 'Sewell',\n",
       " 'FOSSIL',\n",
       " 'Fastrack',\n",
       " 'IDEE',\n",
       " 'DEIXELS',\n",
       " 'FOSSIL',\n",
       " 'VINCENT CHASE',\n",
       " 'SHAAH COLLECTIONS',\n",
       " 'VINCENT CHASE',\n",
       " 'FOSSIL',\n",
       " 'Fastrack',\n",
       " 'LIZA ANGEL',\n",
       " 'Fastrack',\n",
       " 'OAKLEY',\n",
       " 'shah collections',\n",
       " 'Fastrack',\n",
       " 'Fastrack',\n",
       " 'OAKLEY',\n",
       " 'ROZZETTA CRAFT',\n",
       " 'VINCENT CHASE',\n",
       " 'SRPM',\n",
       " 'POLAROID',\n",
       " 'IDEE',\n",
       " 'NuVew',\n",
       " 'NuVew',\n",
       " 'POLAROID',\n",
       " 'ROYAL SON',\n",
       " 'PIRASO',\n",
       " 'Fastrack',\n",
       " 'AISLIN',\n",
       " 'Fastrack',\n",
       " 'ROYAL SON',\n",
       " 'ALIXERO',\n",
       " 'FOSSIL',\n",
       " 'GANSTA',\n",
       " 'IDEE',\n",
       " 'ROYAL SON',\n",
       " 'AISLIN',\n",
       " 'FOSSIL',\n",
       " 'FOSSIL',\n",
       " 'Fastrack',\n",
       " 'SHAAH COLLECTIONS',\n",
       " 'NuVew',\n",
       " 'SHAAH COLLECTIONS',\n",
       " 'Fastrack',\n",
       " 'OAKLEY',\n",
       " 'Bedst',\n",
       " 'SHAAH COLLECTIONS',\n",
       " 'SHAAH COLLECTIONS',\n",
       " 'RED MONK',\n",
       " 'MODE',\n",
       " 'NuVew',\n",
       " 'SHAAH COLLECTIONS',\n",
       " 'OAKLEY',\n",
       " 'Fastrack',\n",
       " 'Fastrack',\n",
       " 'NuVew',\n",
       " 'CARRERA',\n",
       " 'PIRASO',\n",
       " 'Fastrack',\n",
       " 'SUNBEE',\n",
       " 'CARRERA',\n",
       " 'Fastrack',\n",
       " 'Fastrack',\n",
       " 'Fastrack',\n",
       " 'OAKLEY',\n",
       " 'PIRASO',\n",
       " 'Fastrack',\n",
       " 'Mi',\n",
       " 'OAKLEY',\n",
       " 'ROYAL SON',\n",
       " 'SHAAH COLLECTIONS',\n",
       " 'Fastrack',\n",
       " 'CARRERA',\n",
       " 'SHAAH COLLECTIONS',\n",
       " 'PIRASO',\n",
       " 'New Specs',\n",
       " 'POLAROID']"
      ]
     },
     "execution_count": 321,
     "metadata": {},
     "output_type": "execute_result"
    }
   ],
   "source": [
    "product_name"
   ]
  },
  {
   "cell_type": "code",
   "execution_count": 328,
   "id": "65584ee4",
   "metadata": {},
   "outputs": [],
   "source": [
    "Brand=[]\n",
    "\n",
    "for i in product_name[0:100]:\n",
    "    Brand.append(i)"
   ]
  },
  {
   "cell_type": "code",
   "execution_count": 329,
   "id": "e7757d76",
   "metadata": {},
   "outputs": [
    {
     "data": {
      "text/plain": [
       "['FOSSIL',\n",
       " 'FOSSIL',\n",
       " 'Fastrack',\n",
       " 'SHAAH COLLECTIONS',\n",
       " 'NuVew',\n",
       " 'SHAAH COLLECTIONS',\n",
       " 'Fastrack',\n",
       " 'FOSSIL',\n",
       " 'Bedst',\n",
       " 'SHAAH COLLECTIONS',\n",
       " 'SHAAH COLLECTIONS',\n",
       " 'OAKLEY',\n",
       " 'MODE',\n",
       " 'NuVew',\n",
       " 'SHAAH COLLECTIONS',\n",
       " 'OAKLEY',\n",
       " 'Fastrack',\n",
       " 'Fastrack',\n",
       " 'NuVew',\n",
       " 'RED MONK',\n",
       " 'PIRASO',\n",
       " 'Fastrack',\n",
       " 'SUNBEE',\n",
       " 'OAKLEY',\n",
       " 'Fastrack',\n",
       " 'Fastrack',\n",
       " 'Fastrack',\n",
       " 'CARRERA',\n",
       " 'PIRASO',\n",
       " 'Fastrack',\n",
       " 'Mi',\n",
       " 'OAKLEY',\n",
       " 'ROYAL SON',\n",
       " 'SHAAH COLLECTIONS',\n",
       " 'Fastrack',\n",
       " 'OAKLEY',\n",
       " 'SHAAH COLLECTIONS',\n",
       " 'PIRASO',\n",
       " 'New Specs',\n",
       " 'CARRERA',\n",
       " 'LIZA ANGEL',\n",
       " 'ROYAL SON',\n",
       " 'Sewell',\n",
       " 'FOSSIL',\n",
       " 'Fastrack',\n",
       " 'IDEE',\n",
       " 'DEIXELS',\n",
       " 'FOSSIL',\n",
       " 'VINCENT CHASE',\n",
       " 'SHAAH COLLECTIONS',\n",
       " 'VINCENT CHASE',\n",
       " 'FOSSIL',\n",
       " 'Fastrack',\n",
       " 'LIZA ANGEL',\n",
       " 'Fastrack',\n",
       " 'OAKLEY',\n",
       " 'shah collections',\n",
       " 'Fastrack',\n",
       " 'Fastrack',\n",
       " 'OAKLEY',\n",
       " 'ROZZETTA CRAFT',\n",
       " 'VINCENT CHASE',\n",
       " 'SRPM',\n",
       " 'POLAROID',\n",
       " 'IDEE',\n",
       " 'NuVew',\n",
       " 'NuVew',\n",
       " 'POLAROID',\n",
       " 'ROYAL SON',\n",
       " 'PIRASO',\n",
       " 'Fastrack',\n",
       " 'AISLIN',\n",
       " 'Fastrack',\n",
       " 'ROYAL SON',\n",
       " 'ALIXERO',\n",
       " 'FOSSIL',\n",
       " 'GANSTA',\n",
       " 'IDEE',\n",
       " 'ROYAL SON',\n",
       " 'AISLIN',\n",
       " 'FOSSIL',\n",
       " 'FOSSIL',\n",
       " 'Fastrack',\n",
       " 'SHAAH COLLECTIONS',\n",
       " 'NuVew',\n",
       " 'SHAAH COLLECTIONS',\n",
       " 'Fastrack',\n",
       " 'OAKLEY',\n",
       " 'Bedst',\n",
       " 'SHAAH COLLECTIONS',\n",
       " 'SHAAH COLLECTIONS',\n",
       " 'RED MONK',\n",
       " 'MODE',\n",
       " 'NuVew',\n",
       " 'SHAAH COLLECTIONS',\n",
       " 'OAKLEY',\n",
       " 'Fastrack',\n",
       " 'Fastrack',\n",
       " 'NuVew',\n",
       " 'CARRERA']"
      ]
     },
     "execution_count": 329,
     "metadata": {},
     "output_type": "execute_result"
    }
   ],
   "source": [
    "Brand"
   ]
  },
  {
   "cell_type": "code",
   "execution_count": 330,
   "id": "b015ff3a",
   "metadata": {},
   "outputs": [
    {
     "data": {
      "text/plain": [
       "100"
      ]
     },
     "execution_count": 330,
     "metadata": {},
     "output_type": "execute_result"
    }
   ],
   "source": [
    "len(Brand)"
   ]
  },
  {
   "cell_type": "code",
   "execution_count": null,
   "id": "03bc9cd4",
   "metadata": {},
   "outputs": [],
   "source": []
  },
  {
   "cell_type": "code",
   "execution_count": 331,
   "id": "1d6f19c6",
   "metadata": {},
   "outputs": [],
   "source": [
    "product_Description=[]\n",
    "\n",
    "for page in range(0,3):\n",
    "    desc=driver.find_elements(By.XPATH,'//a[@class=\"IRpwTa\"]')\n",
    "    for i in desc:\n",
    "        product_Description.append(i.text)\n",
    "    nxt_button=driver.find_element(By.XPATH,'//a[@class=\"_1LKTO3\"]')\n",
    "    nxt_button.click()\n",
    "    time.sleep(2)"
   ]
  },
  {
   "cell_type": "code",
   "execution_count": 332,
   "id": "2afd5d95",
   "metadata": {},
   "outputs": [
    {
     "data": {
      "text/plain": [
       "120"
      ]
     },
     "execution_count": 332,
     "metadata": {},
     "output_type": "execute_result"
    }
   ],
   "source": [
    "len(product_Description)"
   ]
  },
  {
   "cell_type": "code",
   "execution_count": 333,
   "id": "a2c0e397",
   "metadata": {},
   "outputs": [
    {
     "data": {
      "text/plain": [
       "['Others Aviator Sunglasses (58)',\n",
       " 'Mirrored, Night Vision Oval Sunglasses (Free Size)',\n",
       " 'UV Protection Wayfarer Sunglasses (Free Size)',\n",
       " 'UV Protection Round Sunglasses (54)',\n",
       " 'UV Protection Aviator Sunglasses (57)',\n",
       " 'UV Protection Rectangular Sunglasses (Free Size)',\n",
       " 'UV Protection Rectangular Sunglasses (Free Size)',\n",
       " 'Shield Sunglass',\n",
       " 'Others Round Sunglasses (59)',\n",
       " 'UV Protection Aviator Sunglasses (54)',\n",
       " 'UV Protection, Mirrored Wayfarer Sunglasses (54)',\n",
       " 'Rectangular Sunglass',\n",
       " 'UV Protection Aviator Sunglasses (Free Size)',\n",
       " 'UV Protection, Mirrored Wayfarer Sunglasses (57)',\n",
       " 'UV Protection, Mirrored Wayfarer Sunglasses (54)',\n",
       " 'UV Protection Rectangular Sunglasses (52)',\n",
       " 'UV Protection Aviator Sunglasses (58)',\n",
       " 'UV Protection Wayfarer Sunglasses (Free Size)',\n",
       " 'UV Protection Wayfarer Sunglasses (57)',\n",
       " 'Retro Square Sunglass',\n",
       " 'UV Protection Aviator Sunglasses (54)',\n",
       " 'Gradient, UV Protection Wayfarer Sunglasses (Free Size)',\n",
       " 'UV Protection, Polarized Wayfarer Sunglasses (Free Size...',\n",
       " 'Polarized, UV Protection, Gradient, Riding Glasses Rect...',\n",
       " 'Gradient, UV Protection Wayfarer Sunglasses (Free Size)',\n",
       " 'UV Protection Wayfarer Sunglasses (Free Size)',\n",
       " 'UV Protection Shield Sunglasses (Free Size)',\n",
       " 'Others Aviator Sunglasses (57)',\n",
       " 'UV Protection Rectangular Sunglasses (52)',\n",
       " 'UV Protection Wrap-around Sunglasses (Free Size)',\n",
       " 'Polarized Aviator Sunglasses (Free Size)',\n",
       " 'UV Protection, Riding Glasses Cat-eye Sunglasses (55)',\n",
       " 'Polarized, UV Protection Wayfarer, Retro Square Sunglas...',\n",
       " 'UV Protection Aviator Sunglasses (Free Size)',\n",
       " 'UV Protection Aviator Sunglasses (Free Size)',\n",
       " 'Others Rectangular Sunglasses (58)',\n",
       " 'UV Protection Round Sunglasses (52)',\n",
       " 'UV Protection Aviator Sunglasses (58)',\n",
       " 'UV Protection Rectangular Sunglasses (Free Size)',\n",
       " 'HOLBROOK Wayfarer Sunglass',\n",
       " 'UV Protection Aviator Sunglasses (58)',\n",
       " 'UV Protection Rectangular Sunglasses (Free Size)',\n",
       " 'Mirrored, Night Vision, UV Protection, Riding Glasses S...',\n",
       " 'Others Aviator Sunglasses (61)',\n",
       " 'UV Protection Aviator Sunglasses (58)',\n",
       " 'UV Protection Aviator Sunglasses (58)',\n",
       " 'Mirrored, UV Protection Wayfarer Sunglasses (Free Size)',\n",
       " 'Others Retro Square Sunglasses (51)',\n",
       " 'Polarized, UV Protection, Riding Glasses Wayfarer Sungl...',\n",
       " 'by Lenskart Polarized, UV Protection Aviator Sunglasses...',\n",
       " 'UV Protection, Polarized, Mirrored Rectangular Sunglass...',\n",
       " 'Rectangular Sunglass',\n",
       " 'by Lenskart Polarized, UV Protection Cat-eye Sunglasses...',\n",
       " 'Riding Glasses, Night Vision Spectacle Sunglasses (Fre...',\n",
       " 'UV Protection Wayfarer Sunglasses (Free Size)',\n",
       " 'Polarized, Gradient, UV Protection, Mirrored Over-sized...',\n",
       " 'UV Protection Wayfarer Sunglasses (56)',\n",
       " 'Gradient, UV Protection Wayfarer Sunglasses (Free Size)',\n",
       " 'by Lenskart Polarized, UV Protection Wayfarer Sunglasse...',\n",
       " 'Pitchman R Round Sunglass',\n",
       " 'UV Protection Oval Sunglasses (Free Size)',\n",
       " 'UV Protection Aviator Sunglasses (Free Size)',\n",
       " 'UV Protection, Gradient Rectangular Sunglasses (Free Si...',\n",
       " 'Others Rectangular Sunglasses (52)',\n",
       " 'UV Protection Wayfarer Sunglasses (50)',\n",
       " 'Gradient, UV Protection Aviator Sunglasses (58)',\n",
       " 'UV Protection, Mirrored Aviator Sunglasses (57)',\n",
       " 'Rectangular Sunglass',\n",
       " 'Polarized, UV Protection Wayfarer Sunglasses (61)',\n",
       " 'UV Protection Wayfarer Sunglasses (57)',\n",
       " 'UV Protection Wayfarer Sunglasses (18)',\n",
       " 'Others Round Sunglasses (53)',\n",
       " 'UV Protection Wayfarer Sunglasses (55)',\n",
       " 'UV Protection Shield Sunglasses (Free Size)',\n",
       " 'Mirrored Aviator Sunglasses (55)',\n",
       " 'Polarized Retro Square Sunglasses (53)',\n",
       " 'UV Protection, Riding Glasses Retro Square Sunglasses (...',\n",
       " 'UV Protection, Gradient Butterfly Sunglasses (62)',\n",
       " 'UV Protection Retro Square Sunglasses (53)',\n",
       " 'Polarized Aviator Sunglasses (58)',\n",
       " 'Others Aviator Sunglasses (58)',\n",
       " 'Others Round Sunglasses (50)',\n",
       " 'UV Protection Wayfarer Sunglasses (Free Size)',\n",
       " 'UV Protection Round Sunglasses (54)',\n",
       " 'UV Protection Aviator Sunglasses (57)',\n",
       " 'UV Protection Rectangular Sunglasses (Free Size)',\n",
       " 'UV Protection Rectangular Sunglasses (Free Size)',\n",
       " 'Mirrored, Night Vision Oval Sunglasses (Free Size)',\n",
       " 'Others Round Sunglasses (59)',\n",
       " 'UV Protection Aviator Sunglasses (54)',\n",
       " 'UV Protection, Mirrored Wayfarer Sunglasses (54)',\n",
       " 'Rectangular Sunglass',\n",
       " 'UV Protection Aviator Sunglasses (Free Size)',\n",
       " 'UV Protection, Mirrored Wayfarer Sunglasses (57)',\n",
       " 'UV Protection, Mirrored Wayfarer Sunglasses (54)',\n",
       " 'UV Protection Rectangular Sunglasses (52)',\n",
       " 'UV Protection Aviator Sunglasses (58)',\n",
       " 'UV Protection Wayfarer Sunglasses (Free Size)',\n",
       " 'UV Protection Wayfarer Sunglasses (57)',\n",
       " 'Retro Square Sunglass',\n",
       " 'UV Protection Aviator Sunglasses (54)',\n",
       " 'Gradient, UV Protection Wayfarer Sunglasses (Free Size)',\n",
       " 'Gradient, UV Protection Wayfarer Sunglasses (Free Size)',\n",
       " 'UV Protection, Riding Glasses Cat-eye Sunglasses (55)',\n",
       " 'UV Protection, Polarized Wayfarer Sunglasses (Free Size...',\n",
       " 'UV Protection Round Sunglasses (52)',\n",
       " 'UV Protection Wayfarer Sunglasses (Free Size)',\n",
       " 'Others Rectangular Sunglasses (58)',\n",
       " 'UV Protection Shield Sunglasses (Free Size)',\n",
       " 'UV Protection Rectangular Sunglasses (52)',\n",
       " 'UV Protection Wrap-around Sunglasses (Free Size)',\n",
       " 'HOLBROOK Wayfarer Sunglass',\n",
       " 'Polarized, UV Protection Wayfarer, Retro Square Sunglas...',\n",
       " 'UV Protection Aviator Sunglasses (Free Size)',\n",
       " 'Polarized Aviator Sunglasses (Free Size)',\n",
       " 'Others Aviator Sunglasses (57)',\n",
       " 'UV Protection Aviator Sunglasses (Free Size)',\n",
       " 'UV Protection Wayfarer Sunglasses (Free Size)',\n",
       " 'Polarized, UV Protection Aviator Sunglasses (58)',\n",
       " 'Polarized, UV Protection, Gradient, Riding Glasses Rect...']"
      ]
     },
     "execution_count": 333,
     "metadata": {},
     "output_type": "execute_result"
    }
   ],
   "source": [
    "product_Description"
   ]
  },
  {
   "cell_type": "code",
   "execution_count": 334,
   "id": "9b5fa2ff",
   "metadata": {},
   "outputs": [],
   "source": [
    "Description=[]\n",
    "\n",
    "for i in product_Description[0:100]:\n",
    "    Description.append(i)"
   ]
  },
  {
   "cell_type": "code",
   "execution_count": 335,
   "id": "9ef50f5b",
   "metadata": {},
   "outputs": [
    {
     "data": {
      "text/plain": [
       "['Others Aviator Sunglasses (58)',\n",
       " 'Mirrored, Night Vision Oval Sunglasses (Free Size)',\n",
       " 'UV Protection Wayfarer Sunglasses (Free Size)',\n",
       " 'UV Protection Round Sunglasses (54)',\n",
       " 'UV Protection Aviator Sunglasses (57)',\n",
       " 'UV Protection Rectangular Sunglasses (Free Size)',\n",
       " 'UV Protection Rectangular Sunglasses (Free Size)',\n",
       " 'Shield Sunglass',\n",
       " 'Others Round Sunglasses (59)',\n",
       " 'UV Protection Aviator Sunglasses (54)',\n",
       " 'UV Protection, Mirrored Wayfarer Sunglasses (54)',\n",
       " 'Rectangular Sunglass',\n",
       " 'UV Protection Aviator Sunglasses (Free Size)',\n",
       " 'UV Protection, Mirrored Wayfarer Sunglasses (57)',\n",
       " 'UV Protection, Mirrored Wayfarer Sunglasses (54)',\n",
       " 'UV Protection Rectangular Sunglasses (52)',\n",
       " 'UV Protection Aviator Sunglasses (58)',\n",
       " 'UV Protection Wayfarer Sunglasses (Free Size)',\n",
       " 'UV Protection Wayfarer Sunglasses (57)',\n",
       " 'Retro Square Sunglass',\n",
       " 'UV Protection Aviator Sunglasses (54)',\n",
       " 'Gradient, UV Protection Wayfarer Sunglasses (Free Size)',\n",
       " 'UV Protection, Polarized Wayfarer Sunglasses (Free Size...',\n",
       " 'Polarized, UV Protection, Gradient, Riding Glasses Rect...',\n",
       " 'Gradient, UV Protection Wayfarer Sunglasses (Free Size)',\n",
       " 'UV Protection Wayfarer Sunglasses (Free Size)',\n",
       " 'UV Protection Shield Sunglasses (Free Size)',\n",
       " 'Others Aviator Sunglasses (57)',\n",
       " 'UV Protection Rectangular Sunglasses (52)',\n",
       " 'UV Protection Wrap-around Sunglasses (Free Size)',\n",
       " 'Polarized Aviator Sunglasses (Free Size)',\n",
       " 'UV Protection, Riding Glasses Cat-eye Sunglasses (55)',\n",
       " 'Polarized, UV Protection Wayfarer, Retro Square Sunglas...',\n",
       " 'UV Protection Aviator Sunglasses (Free Size)',\n",
       " 'UV Protection Aviator Sunglasses (Free Size)',\n",
       " 'Others Rectangular Sunglasses (58)',\n",
       " 'UV Protection Round Sunglasses (52)',\n",
       " 'UV Protection Aviator Sunglasses (58)',\n",
       " 'UV Protection Rectangular Sunglasses (Free Size)',\n",
       " 'HOLBROOK Wayfarer Sunglass',\n",
       " 'UV Protection Aviator Sunglasses (58)',\n",
       " 'UV Protection Rectangular Sunglasses (Free Size)',\n",
       " 'Mirrored, Night Vision, UV Protection, Riding Glasses S...',\n",
       " 'Others Aviator Sunglasses (61)',\n",
       " 'UV Protection Aviator Sunglasses (58)',\n",
       " 'UV Protection Aviator Sunglasses (58)',\n",
       " 'Mirrored, UV Protection Wayfarer Sunglasses (Free Size)',\n",
       " 'Others Retro Square Sunglasses (51)',\n",
       " 'Polarized, UV Protection, Riding Glasses Wayfarer Sungl...',\n",
       " 'by Lenskart Polarized, UV Protection Aviator Sunglasses...',\n",
       " 'UV Protection, Polarized, Mirrored Rectangular Sunglass...',\n",
       " 'Rectangular Sunglass',\n",
       " 'by Lenskart Polarized, UV Protection Cat-eye Sunglasses...',\n",
       " 'Riding Glasses, Night Vision Spectacle Sunglasses (Fre...',\n",
       " 'UV Protection Wayfarer Sunglasses (Free Size)',\n",
       " 'Polarized, Gradient, UV Protection, Mirrored Over-sized...',\n",
       " 'UV Protection Wayfarer Sunglasses (56)',\n",
       " 'Gradient, UV Protection Wayfarer Sunglasses (Free Size)',\n",
       " 'by Lenskart Polarized, UV Protection Wayfarer Sunglasse...',\n",
       " 'Pitchman R Round Sunglass',\n",
       " 'UV Protection Oval Sunglasses (Free Size)',\n",
       " 'UV Protection Aviator Sunglasses (Free Size)',\n",
       " 'UV Protection, Gradient Rectangular Sunglasses (Free Si...',\n",
       " 'Others Rectangular Sunglasses (52)',\n",
       " 'UV Protection Wayfarer Sunglasses (50)',\n",
       " 'Gradient, UV Protection Aviator Sunglasses (58)',\n",
       " 'UV Protection, Mirrored Aviator Sunglasses (57)',\n",
       " 'Rectangular Sunglass',\n",
       " 'Polarized, UV Protection Wayfarer Sunglasses (61)',\n",
       " 'UV Protection Wayfarer Sunglasses (57)',\n",
       " 'UV Protection Wayfarer Sunglasses (18)',\n",
       " 'Others Round Sunglasses (53)',\n",
       " 'UV Protection Wayfarer Sunglasses (55)',\n",
       " 'UV Protection Shield Sunglasses (Free Size)',\n",
       " 'Mirrored Aviator Sunglasses (55)',\n",
       " 'Polarized Retro Square Sunglasses (53)',\n",
       " 'UV Protection, Riding Glasses Retro Square Sunglasses (...',\n",
       " 'UV Protection, Gradient Butterfly Sunglasses (62)',\n",
       " 'UV Protection Retro Square Sunglasses (53)',\n",
       " 'Polarized Aviator Sunglasses (58)',\n",
       " 'Others Aviator Sunglasses (58)',\n",
       " 'Others Round Sunglasses (50)',\n",
       " 'UV Protection Wayfarer Sunglasses (Free Size)',\n",
       " 'UV Protection Round Sunglasses (54)',\n",
       " 'UV Protection Aviator Sunglasses (57)',\n",
       " 'UV Protection Rectangular Sunglasses (Free Size)',\n",
       " 'UV Protection Rectangular Sunglasses (Free Size)',\n",
       " 'Mirrored, Night Vision Oval Sunglasses (Free Size)',\n",
       " 'Others Round Sunglasses (59)',\n",
       " 'UV Protection Aviator Sunglasses (54)',\n",
       " 'UV Protection, Mirrored Wayfarer Sunglasses (54)',\n",
       " 'Rectangular Sunglass',\n",
       " 'UV Protection Aviator Sunglasses (Free Size)',\n",
       " 'UV Protection, Mirrored Wayfarer Sunglasses (57)',\n",
       " 'UV Protection, Mirrored Wayfarer Sunglasses (54)',\n",
       " 'UV Protection Rectangular Sunglasses (52)',\n",
       " 'UV Protection Aviator Sunglasses (58)',\n",
       " 'UV Protection Wayfarer Sunglasses (Free Size)',\n",
       " 'UV Protection Wayfarer Sunglasses (57)',\n",
       " 'Retro Square Sunglass']"
      ]
     },
     "execution_count": 335,
     "metadata": {},
     "output_type": "execute_result"
    }
   ],
   "source": [
    "Description"
   ]
  },
  {
   "cell_type": "code",
   "execution_count": 336,
   "id": "15fcd2b4",
   "metadata": {},
   "outputs": [
    {
     "data": {
      "text/plain": [
       "100"
      ]
     },
     "execution_count": 336,
     "metadata": {},
     "output_type": "execute_result"
    }
   ],
   "source": [
    "len(Description)"
   ]
  },
  {
   "cell_type": "code",
   "execution_count": 337,
   "id": "9d52734a",
   "metadata": {},
   "outputs": [],
   "source": [
    "Price=[]\n",
    "\n",
    "for page in range(0,3):\n",
    "    amount=driver.find_elements(By.XPATH,'//div[@class=\"_30jeq3\"]')\n",
    "    for i in amount:\n",
    "        Price.append(i.text)\n",
    "    nxt_button=driver.find_element(By.XPATH,'//a[@class=\"_1LKTO3\"]')\n",
    "    nxt_button.click()\n",
    "    time.sleep(2)"
   ]
  },
  {
   "cell_type": "code",
   "execution_count": 338,
   "id": "875d823a",
   "metadata": {},
   "outputs": [
    {
     "data": {
      "text/plain": [
       "120"
      ]
     },
     "execution_count": 338,
     "metadata": {},
     "output_type": "execute_result"
    }
   ],
   "source": [
    "len(Price)"
   ]
  },
  {
   "cell_type": "code",
   "execution_count": 339,
   "id": "60e90b7d",
   "metadata": {},
   "outputs": [
    {
     "data": {
      "text/plain": [
       "['₹244',\n",
       " '₹200',\n",
       " '₹200',\n",
       " '₹164',\n",
       " '₹809',\n",
       " '₹1,024',\n",
       " '₹599',\n",
       " '₹157',\n",
       " '₹188',\n",
       " '₹599',\n",
       " '₹148',\n",
       " '₹3,994',\n",
       " '₹499',\n",
       " '₹151',\n",
       " '₹529',\n",
       " '₹10,929',\n",
       " '₹79',\n",
       " '₹529',\n",
       " '₹599',\n",
       " '₹7,799',\n",
       " '₹1,149',\n",
       " '₹409',\n",
       " '₹255',\n",
       " '₹227',\n",
       " '₹146',\n",
       " '₹1,024',\n",
       " '₹79',\n",
       " '₹5,139',\n",
       " '₹424',\n",
       " '₹79',\n",
       " '₹1,074',\n",
       " '₹5,049',\n",
       " '₹189',\n",
       " '₹529',\n",
       " '₹271',\n",
       " '₹2,999',\n",
       " '₹223',\n",
       " '₹438',\n",
       " '₹165',\n",
       " '₹5,629',\n",
       " '₹4,449',\n",
       " '₹2,909',\n",
       " '₹399',\n",
       " '₹79',\n",
       " '₹100',\n",
       " '₹79',\n",
       " '₹319',\n",
       " '₹3,089',\n",
       " '₹79',\n",
       " '₹79',\n",
       " '₹79',\n",
       " '₹160',\n",
       " '₹79',\n",
       " '₹74',\n",
       " '₹79',\n",
       " '₹2,279',\n",
       " '₹809',\n",
       " '₹359',\n",
       " '₹79',\n",
       " '₹223',\n",
       " '₹167',\n",
       " '₹375',\n",
       " '₹359',\n",
       " '₹404',\n",
       " '₹214',\n",
       " '₹79',\n",
       " '₹479',\n",
       " '₹598',\n",
       " '₹529',\n",
       " '₹184',\n",
       " '₹359',\n",
       " '₹5,049',\n",
       " '₹424',\n",
       " '₹79',\n",
       " '₹499',\n",
       " '₹507',\n",
       " '₹459',\n",
       " '₹120',\n",
       " '₹461',\n",
       " '₹499',\n",
       " '₹244',\n",
       " '₹200',\n",
       " '₹200',\n",
       " '₹2,899',\n",
       " '₹809',\n",
       " '₹1,024',\n",
       " '₹599',\n",
       " '₹164',\n",
       " '₹188',\n",
       " '₹599',\n",
       " '₹148',\n",
       " '₹2,449',\n",
       " '₹499',\n",
       " '₹151',\n",
       " '₹529',\n",
       " '₹3,994',\n",
       " '₹79',\n",
       " '₹529',\n",
       " '₹599',\n",
       " '₹10,929',\n",
       " '₹1,149',\n",
       " '₹409',\n",
       " '₹255',\n",
       " '₹7,799',\n",
       " '₹146',\n",
       " '₹1,024',\n",
       " '₹79',\n",
       " '₹227',\n",
       " '₹424',\n",
       " '₹79',\n",
       " '₹1,074',\n",
       " '₹5,139',\n",
       " '₹189',\n",
       " '₹529',\n",
       " '₹271',\n",
       " '₹157',\n",
       " '₹223',\n",
       " '₹438',\n",
       " '₹165',\n",
       " '₹2,999']"
      ]
     },
     "execution_count": 339,
     "metadata": {},
     "output_type": "execute_result"
    }
   ],
   "source": [
    "Price"
   ]
  },
  {
   "cell_type": "code",
   "execution_count": 341,
   "id": "93cc815b",
   "metadata": {},
   "outputs": [],
   "source": [
    "Amount_of_glasses=[]\n",
    "\n",
    "for i in Price[0:100]:\n",
    "    Amount_of_glasses.append(i)"
   ]
  },
  {
   "cell_type": "code",
   "execution_count": 342,
   "id": "32eb91e2",
   "metadata": {},
   "outputs": [
    {
     "data": {
      "text/plain": [
       "100"
      ]
     },
     "execution_count": 342,
     "metadata": {},
     "output_type": "execute_result"
    }
   ],
   "source": [
    "len(Amount_of_glasses)"
   ]
  },
  {
   "cell_type": "code",
   "execution_count": 343,
   "id": "6b1adfbb",
   "metadata": {},
   "outputs": [
    {
     "data": {
      "text/plain": [
       "['₹244',\n",
       " '₹200',\n",
       " '₹200',\n",
       " '₹164',\n",
       " '₹809',\n",
       " '₹1,024',\n",
       " '₹599',\n",
       " '₹157',\n",
       " '₹188',\n",
       " '₹599',\n",
       " '₹148',\n",
       " '₹3,994',\n",
       " '₹499',\n",
       " '₹151',\n",
       " '₹529',\n",
       " '₹10,929',\n",
       " '₹79',\n",
       " '₹529',\n",
       " '₹599',\n",
       " '₹7,799',\n",
       " '₹1,149',\n",
       " '₹409',\n",
       " '₹255',\n",
       " '₹227',\n",
       " '₹146',\n",
       " '₹1,024',\n",
       " '₹79',\n",
       " '₹5,139',\n",
       " '₹424',\n",
       " '₹79',\n",
       " '₹1,074',\n",
       " '₹5,049',\n",
       " '₹189',\n",
       " '₹529',\n",
       " '₹271',\n",
       " '₹2,999',\n",
       " '₹223',\n",
       " '₹438',\n",
       " '₹165',\n",
       " '₹5,629',\n",
       " '₹4,449',\n",
       " '₹2,909',\n",
       " '₹399',\n",
       " '₹79',\n",
       " '₹100',\n",
       " '₹79',\n",
       " '₹319',\n",
       " '₹3,089',\n",
       " '₹79',\n",
       " '₹79',\n",
       " '₹79',\n",
       " '₹160',\n",
       " '₹79',\n",
       " '₹74',\n",
       " '₹79',\n",
       " '₹2,279',\n",
       " '₹809',\n",
       " '₹359',\n",
       " '₹79',\n",
       " '₹223',\n",
       " '₹167',\n",
       " '₹375',\n",
       " '₹359',\n",
       " '₹404',\n",
       " '₹214',\n",
       " '₹79',\n",
       " '₹479',\n",
       " '₹598',\n",
       " '₹529',\n",
       " '₹184',\n",
       " '₹359',\n",
       " '₹5,049',\n",
       " '₹424',\n",
       " '₹79',\n",
       " '₹499',\n",
       " '₹507',\n",
       " '₹459',\n",
       " '₹120',\n",
       " '₹461',\n",
       " '₹499',\n",
       " '₹244',\n",
       " '₹200',\n",
       " '₹200',\n",
       " '₹2,899',\n",
       " '₹809',\n",
       " '₹1,024',\n",
       " '₹599',\n",
       " '₹164',\n",
       " '₹188',\n",
       " '₹599',\n",
       " '₹148',\n",
       " '₹2,449',\n",
       " '₹499',\n",
       " '₹151',\n",
       " '₹529',\n",
       " '₹3,994',\n",
       " '₹79',\n",
       " '₹529',\n",
       " '₹599',\n",
       " '₹10,929']"
      ]
     },
     "execution_count": 343,
     "metadata": {},
     "output_type": "execute_result"
    }
   ],
   "source": [
    "Amount_of_glasses"
   ]
  },
  {
   "cell_type": "code",
   "execution_count": 344,
   "id": "9387d8f2",
   "metadata": {},
   "outputs": [
    {
     "data": {
      "text/html": [
       "<div>\n",
       "<style scoped>\n",
       "    .dataframe tbody tr th:only-of-type {\n",
       "        vertical-align: middle;\n",
       "    }\n",
       "\n",
       "    .dataframe tbody tr th {\n",
       "        vertical-align: top;\n",
       "    }\n",
       "\n",
       "    .dataframe thead th {\n",
       "        text-align: right;\n",
       "    }\n",
       "</style>\n",
       "<table border=\"1\" class=\"dataframe\">\n",
       "  <thead>\n",
       "    <tr style=\"text-align: right;\">\n",
       "      <th></th>\n",
       "      <th>Name</th>\n",
       "      <th>Description</th>\n",
       "      <th>Price</th>\n",
       "    </tr>\n",
       "  </thead>\n",
       "  <tbody>\n",
       "    <tr>\n",
       "      <th>0</th>\n",
       "      <td>FOSSIL</td>\n",
       "      <td>Others Aviator Sunglasses (58)</td>\n",
       "      <td>₹244</td>\n",
       "    </tr>\n",
       "    <tr>\n",
       "      <th>1</th>\n",
       "      <td>FOSSIL</td>\n",
       "      <td>Mirrored, Night Vision Oval Sunglasses (Free S...</td>\n",
       "      <td>₹200</td>\n",
       "    </tr>\n",
       "    <tr>\n",
       "      <th>2</th>\n",
       "      <td>Fastrack</td>\n",
       "      <td>UV Protection Wayfarer Sunglasses (Free Size)</td>\n",
       "      <td>₹200</td>\n",
       "    </tr>\n",
       "    <tr>\n",
       "      <th>3</th>\n",
       "      <td>SHAAH COLLECTIONS</td>\n",
       "      <td>UV Protection Round Sunglasses (54)</td>\n",
       "      <td>₹164</td>\n",
       "    </tr>\n",
       "    <tr>\n",
       "      <th>4</th>\n",
       "      <td>NuVew</td>\n",
       "      <td>UV Protection Aviator Sunglasses (57)</td>\n",
       "      <td>₹809</td>\n",
       "    </tr>\n",
       "    <tr>\n",
       "      <th>...</th>\n",
       "      <td>...</td>\n",
       "      <td>...</td>\n",
       "      <td>...</td>\n",
       "    </tr>\n",
       "    <tr>\n",
       "      <th>95</th>\n",
       "      <td>OAKLEY</td>\n",
       "      <td>UV Protection Rectangular Sunglasses (52)</td>\n",
       "      <td>₹3,994</td>\n",
       "    </tr>\n",
       "    <tr>\n",
       "      <th>96</th>\n",
       "      <td>Fastrack</td>\n",
       "      <td>UV Protection Aviator Sunglasses (58)</td>\n",
       "      <td>₹79</td>\n",
       "    </tr>\n",
       "    <tr>\n",
       "      <th>97</th>\n",
       "      <td>Fastrack</td>\n",
       "      <td>UV Protection Wayfarer Sunglasses (Free Size)</td>\n",
       "      <td>₹529</td>\n",
       "    </tr>\n",
       "    <tr>\n",
       "      <th>98</th>\n",
       "      <td>NuVew</td>\n",
       "      <td>UV Protection Wayfarer Sunglasses (57)</td>\n",
       "      <td>₹599</td>\n",
       "    </tr>\n",
       "    <tr>\n",
       "      <th>99</th>\n",
       "      <td>CARRERA</td>\n",
       "      <td>Retro Square Sunglass</td>\n",
       "      <td>₹10,929</td>\n",
       "    </tr>\n",
       "  </tbody>\n",
       "</table>\n",
       "<p>100 rows × 3 columns</p>\n",
       "</div>"
      ],
      "text/plain": [
       "                 Name                                        Description  \\\n",
       "0              FOSSIL                     Others Aviator Sunglasses (58)   \n",
       "1              FOSSIL  Mirrored, Night Vision Oval Sunglasses (Free S...   \n",
       "2            Fastrack      UV Protection Wayfarer Sunglasses (Free Size)   \n",
       "3   SHAAH COLLECTIONS                UV Protection Round Sunglasses (54)   \n",
       "4               NuVew              UV Protection Aviator Sunglasses (57)   \n",
       "..                ...                                                ...   \n",
       "95             OAKLEY          UV Protection Rectangular Sunglasses (52)   \n",
       "96           Fastrack              UV Protection Aviator Sunglasses (58)   \n",
       "97           Fastrack      UV Protection Wayfarer Sunglasses (Free Size)   \n",
       "98              NuVew             UV Protection Wayfarer Sunglasses (57)   \n",
       "99            CARRERA                              Retro Square Sunglass   \n",
       "\n",
       "      Price  \n",
       "0      ₹244  \n",
       "1      ₹200  \n",
       "2      ₹200  \n",
       "3      ₹164  \n",
       "4      ₹809  \n",
       "..      ...  \n",
       "95   ₹3,994  \n",
       "96      ₹79  \n",
       "97     ₹529  \n",
       "98     ₹599  \n",
       "99  ₹10,929  \n",
       "\n",
       "[100 rows x 3 columns]"
      ]
     },
     "execution_count": 344,
     "metadata": {},
     "output_type": "execute_result"
    }
   ],
   "source": [
    "df=pd.DataFrame({'Name':Brand,'Description':Description,'Price':Amount_of_glasses})\n",
    "df"
   ]
  },
  {
   "cell_type": "code",
   "execution_count": null,
   "id": "094a0158",
   "metadata": {},
   "outputs": [],
   "source": []
  },
  {
   "cell_type": "code",
   "execution_count": null,
   "id": "3e1cc553",
   "metadata": {},
   "outputs": [],
   "source": []
  },
  {
   "cell_type": "code",
   "execution_count": null,
   "id": "a802cf33",
   "metadata": {},
   "outputs": [],
   "source": [
    "***** 5th is pending*******"
   ]
  },
  {
   "cell_type": "markdown",
   "id": "ec6a1a45",
   "metadata": {},
   "source": [
    "5) Scrape 100 reviews data from flipkart.com for iphone 11."
   ]
  },
  {
   "cell_type": "code",
   "execution_count": 23,
   "id": "17f7c9d5",
   "metadata": {},
   "outputs": [],
   "source": [
    "driver=webdriver.Chrome(r\"C:\\Users\\Hello world\\Downloads\\chromedriver_win32\\chromedriver.exe\")"
   ]
  },
  {
   "cell_type": "code",
   "execution_count": 24,
   "id": "7c18c7dc",
   "metadata": {},
   "outputs": [],
   "source": [
    "driver.get(\"https://www.flipkart.com/apple-iphone-12-black-128-gb/product-reviews/itmf1f0a58f1ecd7?pid=MOBFWBYZK3HACR72&lid=LSTMOBFWBYZK3HACR72PX4KSA&marketplace=FLIPKART\")"
   ]
  },
  {
   "cell_type": "markdown",
   "id": "be12e995",
   "metadata": {},
   "source": [
    "Note: Because of my query due to facing some issues, SME will provide this link to proceed further."
   ]
  },
  {
   "cell_type": "markdown",
   "id": "2c7d0dac",
   "metadata": {},
   "source": [
    "We need to scrap Rating, Review summary, Full review for first 100 reviews of iphone."
   ]
  },
  {
   "cell_type": "code",
   "execution_count": 27,
   "id": "434d083d",
   "metadata": {},
   "outputs": [],
   "source": [
    "Ratings1=[]\n",
    "\n",
    "for page in range(0,10):\n",
    "    r=driver.find_elements(By.XPATH,'//div[@class=\"_3LWZlK _1BLPMq\"]')\n",
    "    for i in r:\n",
    "        Ratings1.append(i.text)\n",
    "    nxt_button=driver.find_element(By.XPATH,'//a[@class=\"_1LKTO3\"]')\n",
    "    nxt_button.click()\n",
    "    time.sleep(2)"
   ]
  },
  {
   "cell_type": "code",
   "execution_count": 28,
   "id": "cc6a2331",
   "metadata": {},
   "outputs": [
    {
     "data": {
      "text/plain": [
       "100"
      ]
     },
     "execution_count": 28,
     "metadata": {},
     "output_type": "execute_result"
    }
   ],
   "source": [
    "len(Ratings1)"
   ]
  },
  {
   "cell_type": "code",
   "execution_count": 29,
   "id": "958b8b3d",
   "metadata": {},
   "outputs": [
    {
     "data": {
      "text/plain": [
       "['5',\n",
       " '5',\n",
       " '5',\n",
       " '5',\n",
       " '5',\n",
       " '5',\n",
       " '5',\n",
       " '5',\n",
       " '4',\n",
       " '5',\n",
       " '5',\n",
       " '5',\n",
       " '5',\n",
       " '5',\n",
       " '5',\n",
       " '5',\n",
       " '5',\n",
       " '5',\n",
       " '5',\n",
       " '5',\n",
       " '5',\n",
       " '5',\n",
       " '5',\n",
       " '5',\n",
       " '5',\n",
       " '5',\n",
       " '5',\n",
       " '5',\n",
       " '4',\n",
       " '5',\n",
       " '5',\n",
       " '5',\n",
       " '5',\n",
       " '5',\n",
       " '5',\n",
       " '5',\n",
       " '5',\n",
       " '5',\n",
       " '5',\n",
       " '5',\n",
       " '5',\n",
       " '5',\n",
       " '5',\n",
       " '5',\n",
       " '5',\n",
       " '5',\n",
       " '5',\n",
       " '5',\n",
       " '4',\n",
       " '5',\n",
       " '5',\n",
       " '5',\n",
       " '5',\n",
       " '5',\n",
       " '5',\n",
       " '5',\n",
       " '5',\n",
       " '5',\n",
       " '5',\n",
       " '5',\n",
       " '5',\n",
       " '5',\n",
       " '5',\n",
       " '5',\n",
       " '5',\n",
       " '5',\n",
       " '5',\n",
       " '5',\n",
       " '4',\n",
       " '5',\n",
       " '5',\n",
       " '5',\n",
       " '5',\n",
       " '5',\n",
       " '5',\n",
       " '5',\n",
       " '5',\n",
       " '5',\n",
       " '5',\n",
       " '5',\n",
       " '5',\n",
       " '5',\n",
       " '5',\n",
       " '5',\n",
       " '5',\n",
       " '5',\n",
       " '5',\n",
       " '5',\n",
       " '4',\n",
       " '5',\n",
       " '5',\n",
       " '5',\n",
       " '5',\n",
       " '5',\n",
       " '5',\n",
       " '5',\n",
       " '5',\n",
       " '5',\n",
       " '5',\n",
       " '5']"
      ]
     },
     "execution_count": 29,
     "metadata": {},
     "output_type": "execute_result"
    }
   ],
   "source": [
    "Ratings1"
   ]
  },
  {
   "cell_type": "code",
   "execution_count": 44,
   "id": "5d018ced",
   "metadata": {},
   "outputs": [],
   "source": [
    "Reviewsummary=[]\n",
    "\n",
    "for page in range(0,10):\n",
    "    RS=driver.find_elements(By.XPATH,'//p[@class=\"_2-N8zT\"]')\n",
    "    for i in RS:\n",
    "        Reviewsummary.append(i.text)\n",
    "    nxt_button=driver.find_element(By.XPATH,'//a[@class=\"_1LKTO3\"]')\n",
    "    nxt_button.click()\n",
    "    time.sleep(2)"
   ]
  },
  {
   "cell_type": "code",
   "execution_count": 45,
   "id": "62ea1a4a",
   "metadata": {},
   "outputs": [
    {
     "data": {
      "text/plain": [
       "100"
      ]
     },
     "execution_count": 45,
     "metadata": {},
     "output_type": "execute_result"
    }
   ],
   "source": [
    "len(Reviewsummary)"
   ]
  },
  {
   "cell_type": "code",
   "execution_count": 46,
   "id": "a253a608",
   "metadata": {},
   "outputs": [
    {
     "data": {
      "text/plain": [
       "['Terrific',\n",
       " 'Perfect product!',\n",
       " 'Terrific purchase',\n",
       " 'Mind-blowing purchase',\n",
       " 'Awesome',\n",
       " 'Highly recommended',\n",
       " 'Brilliant',\n",
       " 'Awesome',\n",
       " 'Must buy!',\n",
       " 'Highly recommended',\n",
       " 'Must buy!',\n",
       " 'Must buy!',\n",
       " 'Worth every penny',\n",
       " 'Brilliant',\n",
       " 'Just wow!',\n",
       " 'Terrific',\n",
       " 'Brilliant',\n",
       " 'Just wow!',\n",
       " 'Pretty good',\n",
       " 'Great product',\n",
       " 'Terrific',\n",
       " 'Perfect product!',\n",
       " 'Terrific purchase',\n",
       " 'Mind-blowing purchase',\n",
       " 'Awesome',\n",
       " 'Highly recommended',\n",
       " 'Brilliant',\n",
       " 'Awesome',\n",
       " 'Must buy!',\n",
       " 'Highly recommended',\n",
       " 'Terrific',\n",
       " 'Perfect product!',\n",
       " 'Terrific purchase',\n",
       " 'Mind-blowing purchase',\n",
       " 'Awesome',\n",
       " 'Highly recommended',\n",
       " 'Brilliant',\n",
       " 'Awesome',\n",
       " 'Must buy!',\n",
       " 'Highly recommended',\n",
       " 'Must buy!',\n",
       " 'Must buy!',\n",
       " 'Worth every penny',\n",
       " 'Brilliant',\n",
       " 'Just wow!',\n",
       " 'Terrific',\n",
       " 'Brilliant',\n",
       " 'Just wow!',\n",
       " 'Pretty good',\n",
       " 'Great product',\n",
       " 'Terrific',\n",
       " 'Perfect product!',\n",
       " 'Terrific purchase',\n",
       " 'Mind-blowing purchase',\n",
       " 'Awesome',\n",
       " 'Highly recommended',\n",
       " 'Brilliant',\n",
       " 'Awesome',\n",
       " 'Must buy!',\n",
       " 'Highly recommended',\n",
       " 'Must buy!',\n",
       " 'Must buy!',\n",
       " 'Worth every penny',\n",
       " 'Brilliant',\n",
       " 'Just wow!',\n",
       " 'Terrific',\n",
       " 'Brilliant',\n",
       " 'Just wow!',\n",
       " 'Pretty good',\n",
       " 'Great product',\n",
       " 'Terrific',\n",
       " 'Perfect product!',\n",
       " 'Terrific purchase',\n",
       " 'Mind-blowing purchase',\n",
       " 'Awesome',\n",
       " 'Highly recommended',\n",
       " 'Brilliant',\n",
       " 'Awesome',\n",
       " 'Must buy!',\n",
       " 'Highly recommended',\n",
       " 'Terrific',\n",
       " 'Perfect product!',\n",
       " 'Terrific purchase',\n",
       " 'Mind-blowing purchase',\n",
       " 'Awesome',\n",
       " 'Highly recommended',\n",
       " 'Brilliant',\n",
       " 'Awesome',\n",
       " 'Must buy!',\n",
       " 'Highly recommended',\n",
       " 'Must buy!',\n",
       " 'Must buy!',\n",
       " 'Worth every penny',\n",
       " 'Brilliant',\n",
       " 'Just wow!',\n",
       " 'Terrific',\n",
       " 'Brilliant',\n",
       " 'Just wow!',\n",
       " 'Pretty good',\n",
       " 'Great product']"
      ]
     },
     "execution_count": 46,
     "metadata": {},
     "output_type": "execute_result"
    }
   ],
   "source": [
    "Reviewsummary"
   ]
  },
  {
   "cell_type": "code",
   "execution_count": null,
   "id": "d1eeb69e",
   "metadata": {},
   "outputs": [],
   "source": []
  },
  {
   "cell_type": "code",
   "execution_count": 50,
   "id": "f0d9fa8a",
   "metadata": {},
   "outputs": [],
   "source": [
    "Fullreview=[]\n",
    "\n",
    "for page in range(0,100):\n",
    "    FR=driver.find_elements(By.XPATH,'/html/body/div/div/div[3]/div/div[1]/div[2]/div[3]/div/div/div/div[2]/div/div/div')\n",
    "    for i in FR:\n",
    "        Fullreview.append(i.text)\n",
    "    nxt_button=driver.find_element(By.XPATH,'//a[@class=\"_1LKTO3\"]')\n",
    "    nxt_button.click()\n",
    "    time.sleep(2)"
   ]
  },
  {
   "cell_type": "code",
   "execution_count": 51,
   "id": "471cc171",
   "metadata": {},
   "outputs": [
    {
     "data": {
      "text/plain": [
       "100"
      ]
     },
     "execution_count": 51,
     "metadata": {},
     "output_type": "execute_result"
    }
   ],
   "source": [
    "len(Fullreview)"
   ]
  },
  {
   "cell_type": "code",
   "execution_count": 52,
   "id": "fb95032e",
   "metadata": {},
   "outputs": [
    {
     "data": {
      "text/plain": [
       "['Wow superb camera phone\\nVery smooth speed and no lag , iphone is the king always\\nIts a beautiful product',\n",
       " 'I really m glad that i went for i phone in place of all other android devices like the Samsung S series nd one plus .\\nAlso , m amazed by the battery life in this i phone . Single charge and its last for a day easily ..\\nEven the gaming experience was great',\n",
       " 'Wow superb camera phone\\nVery smooth speed and no lag , iphone is the king always\\nIts a beautiful product',\n",
       " 'I really m glad that i went for i phone in place of all other android devices like the Samsung S series nd one plus .\\nAlso , m amazed by the battery life in this i phone . Single charge and its last for a day easily ..\\nEven the gaming experience was great',\n",
       " 'Wow superb camera phone\\nVery smooth speed and no lag , iphone is the king always\\nIts a beautiful product',\n",
       " 'I really m glad that i went for i phone in place of all other android devices like the Samsung S series nd one plus .\\nAlso , m amazed by the battery life in this i phone . Single charge and its last for a day easily ..\\nEven the gaming experience was great',\n",
       " 'Wow superb camera phone\\nVery smooth speed and no lag , iphone is the king always\\nIts a beautiful product',\n",
       " 'I really m glad that i went for i phone in place of all other android devices like the Samsung S series nd one plus .\\nAlso , m amazed by the battery life in this i phone . Single charge and its last for a day easily ..\\nEven the gaming experience was great',\n",
       " 'Wow superb camera phone\\nVery smooth speed and no lag , iphone is the king always\\nIts a beautiful product',\n",
       " 'I really m glad that i went for i phone in place of all other android devices like the Samsung S series nd one plus .\\nAlso , m amazed by the battery life in this i phone . Single charge and its last for a day easily ..\\nEven the gaming experience was great',\n",
       " 'Wow superb camera phone\\nVery smooth speed and no lag , iphone is the king always\\nIts a beautiful product',\n",
       " 'I really m glad that i went for i phone in place of all other android devices like the Samsung S series nd one plus .\\nAlso , m amazed by the battery life in this i phone . Single charge and its last for a day easily ..\\nEven the gaming experience was great',\n",
       " 'Wow superb camera phone\\nVery smooth speed and no lag , iphone is the king always\\nIts a beautiful product',\n",
       " 'I really m glad that i went for i phone in place of all other android devices like the Samsung S series nd one plus .\\nAlso , m amazed by the battery life in this i phone . Single charge and its last for a day easily ..\\nEven the gaming experience was great',\n",
       " 'Wow superb camera phone\\nVery smooth speed and no lag , iphone is the king always\\nIts a beautiful product',\n",
       " 'I really m glad that i went for i phone in place of all other android devices like the Samsung S series nd one plus .\\nAlso , m amazed by the battery life in this i phone . Single charge and its last for a day easily ..\\nEven the gaming experience was great',\n",
       " 'Wow superb camera phone\\nVery smooth speed and no lag , iphone is the king always\\nIts a beautiful product',\n",
       " 'I really m glad that i went for i phone in place of all other android devices like the Samsung S series nd one plus .\\nAlso , m amazed by the battery life in this i phone . Single charge and its last for a day easily ..\\nEven the gaming experience was great',\n",
       " 'Wow superb camera phone\\nVery smooth speed and no lag , iphone is the king always\\nIts a beautiful product',\n",
       " 'I really m glad that i went for i phone in place of all other android devices like the Samsung S series nd one plus .\\nAlso , m amazed by the battery life in this i phone . Single charge and its last for a day easily ..\\nEven the gaming experience was great',\n",
       " 'Wow superb camera phone\\nVery smooth speed and no lag , iphone is the king always\\nIts a beautiful product',\n",
       " 'I really m glad that i went for i phone in place of all other android devices like the Samsung S series nd one plus .\\nAlso , m amazed by the battery life in this i phone . Single charge and its last for a day easily ..\\nEven the gaming experience was great',\n",
       " 'Wow superb camera phone\\nVery smooth speed and no lag , iphone is the king always\\nIts a beautiful product',\n",
       " 'I really m glad that i went for i phone in place of all other android devices like the Samsung S series nd one plus .\\nAlso , m amazed by the battery life in this i phone . Single charge and its last for a day easily ..\\nEven the gaming experience was great',\n",
       " 'Wow superb camera phone\\nVery smooth speed and no lag , iphone is the king always\\nIts a beautiful product',\n",
       " 'I really m glad that i went for i phone in place of all other android devices like the Samsung S series nd one plus .\\nAlso , m amazed by the battery life in this i phone . Single charge and its last for a day easily ..\\nEven the gaming experience was great',\n",
       " 'Wow superb camera phone\\nVery smooth speed and no lag , iphone is the king always\\nIts a beautiful product',\n",
       " 'I really m glad that i went for i phone in place of all other android devices like the Samsung S series nd one plus .\\nAlso , m amazed by the battery life in this i phone . Single charge and its last for a day easily ..\\nEven the gaming experience was great',\n",
       " 'Wow superb camera phone\\nVery smooth speed and no lag , iphone is the king always\\nIts a beautiful product',\n",
       " 'I really m glad that i went for i phone in place of all other android devices like the Samsung S series nd one plus .\\nAlso , m amazed by the battery life in this i phone . Single charge and its last for a day easily ..\\nEven the gaming experience was great',\n",
       " 'Wow superb camera phone\\nVery smooth speed and no lag , iphone is the king always\\nIts a beautiful product',\n",
       " 'I really m glad that i went for i phone in place of all other android devices like the Samsung S series nd one plus .\\nAlso , m amazed by the battery life in this i phone . Single charge and its last for a day easily ..\\nEven the gaming experience was great',\n",
       " 'Wow superb camera phone\\nVery smooth speed and no lag , iphone is the king always\\nIts a beautiful product',\n",
       " 'I really m glad that i went for i phone in place of all other android devices like the Samsung S series nd one plus .\\nAlso , m amazed by the battery life in this i phone . Single charge and its last for a day easily ..\\nEven the gaming experience was great',\n",
       " 'Wow superb camera phone\\nVery smooth speed and no lag , iphone is the king always\\nIts a beautiful product',\n",
       " 'I really m glad that i went for i phone in place of all other android devices like the Samsung S series nd one plus .\\nAlso , m amazed by the battery life in this i phone . Single charge and its last for a day easily ..\\nEven the gaming experience was great',\n",
       " 'Wow superb camera phone\\nVery smooth speed and no lag , iphone is the king always\\nIts a beautiful product',\n",
       " 'I really m glad that i went for i phone in place of all other android devices like the Samsung S series nd one plus .\\nAlso , m amazed by the battery life in this i phone . Single charge and its last for a day easily ..\\nEven the gaming experience was great',\n",
       " 'Wow superb camera phone\\nVery smooth speed and no lag , iphone is the king always\\nIts a beautiful product',\n",
       " 'I really m glad that i went for i phone in place of all other android devices like the Samsung S series nd one plus .\\nAlso , m amazed by the battery life in this i phone . Single charge and its last for a day easily ..\\nEven the gaming experience was great',\n",
       " 'Wow superb camera phone\\nVery smooth speed and no lag , iphone is the king always\\nIts a beautiful product',\n",
       " 'I really m glad that i went for i phone in place of all other android devices like the Samsung S series nd one plus .\\nAlso , m amazed by the battery life in this i phone . Single charge and its last for a day easily ..\\nEven the gaming experience was great',\n",
       " 'Wow superb camera phone\\nVery smooth speed and no lag , iphone is the king always\\nIts a beautiful product',\n",
       " 'I really m glad that i went for i phone in place of all other android devices like the Samsung S series nd one plus .\\nAlso , m amazed by the battery life in this i phone . Single charge and its last for a day easily ..\\nEven the gaming experience was great',\n",
       " 'Wow superb camera phone\\nVery smooth speed and no lag , iphone is the king always\\nIts a beautiful product',\n",
       " 'I really m glad that i went for i phone in place of all other android devices like the Samsung S series nd one plus .\\nAlso , m amazed by the battery life in this i phone . Single charge and its last for a day easily ..\\nEven the gaming experience was great',\n",
       " 'Wow superb camera phone\\nVery smooth speed and no lag , iphone is the king always\\nIts a beautiful product',\n",
       " 'I really m glad that i went for i phone in place of all other android devices like the Samsung S series nd one plus .\\nAlso , m amazed by the battery life in this i phone . Single charge and its last for a day easily ..\\nEven the gaming experience was great',\n",
       " 'Wow superb camera phone\\nVery smooth speed and no lag , iphone is the king always\\nIts a beautiful product',\n",
       " 'I really m glad that i went for i phone in place of all other android devices like the Samsung S series nd one plus .\\nAlso , m amazed by the battery life in this i phone . Single charge and its last for a day easily ..\\nEven the gaming experience was great',\n",
       " 'Wow superb camera phone\\nVery smooth speed and no lag , iphone is the king always\\nIts a beautiful product',\n",
       " 'I really m glad that i went for i phone in place of all other android devices like the Samsung S series nd one plus .\\nAlso , m amazed by the battery life in this i phone . Single charge and its last for a day easily ..\\nEven the gaming experience was great',\n",
       " 'Wow superb camera phone\\nVery smooth speed and no lag , iphone is the king always\\nIts a beautiful product',\n",
       " 'I really m glad that i went for i phone in place of all other android devices like the Samsung S series nd one plus .\\nAlso , m amazed by the battery life in this i phone . Single charge and its last for a day easily ..\\nEven the gaming experience was great',\n",
       " 'Wow superb camera phone\\nVery smooth speed and no lag , iphone is the king always\\nIts a beautiful product',\n",
       " 'I really m glad that i went for i phone in place of all other android devices like the Samsung S series nd one plus .\\nAlso , m amazed by the battery life in this i phone . Single charge and its last for a day easily ..\\nEven the gaming experience was great',\n",
       " 'Wow superb camera phone\\nVery smooth speed and no lag , iphone is the king always\\nIts a beautiful product',\n",
       " 'I really m glad that i went for i phone in place of all other android devices like the Samsung S series nd one plus .\\nAlso , m amazed by the battery life in this i phone . Single charge and its last for a day easily ..\\nEven the gaming experience was great',\n",
       " 'Wow superb camera phone\\nVery smooth speed and no lag , iphone is the king always\\nIts a beautiful product',\n",
       " 'I really m glad that i went for i phone in place of all other android devices like the Samsung S series nd one plus .\\nAlso , m amazed by the battery life in this i phone . Single charge and its last for a day easily ..\\nEven the gaming experience was great',\n",
       " 'Wow superb camera phone\\nVery smooth speed and no lag , iphone is the king always\\nIts a beautiful product',\n",
       " 'I really m glad that i went for i phone in place of all other android devices like the Samsung S series nd one plus .\\nAlso , m amazed by the battery life in this i phone . Single charge and its last for a day easily ..\\nEven the gaming experience was great',\n",
       " 'Wow superb camera phone\\nVery smooth speed and no lag , iphone is the king always\\nIts a beautiful product',\n",
       " 'I really m glad that i went for i phone in place of all other android devices like the Samsung S series nd one plus .\\nAlso , m amazed by the battery life in this i phone . Single charge and its last for a day easily ..\\nEven the gaming experience was great',\n",
       " 'Wow superb camera phone\\nVery smooth speed and no lag , iphone is the king always\\nIts a beautiful product',\n",
       " 'I really m glad that i went for i phone in place of all other android devices like the Samsung S series nd one plus .\\nAlso , m amazed by the battery life in this i phone . Single charge and its last for a day easily ..\\nEven the gaming experience was great',\n",
       " 'Wow superb camera phone\\nVery smooth speed and no lag , iphone is the king always\\nIts a beautiful product',\n",
       " 'I really m glad that i went for i phone in place of all other android devices like the Samsung S series nd one plus .\\nAlso , m amazed by the battery life in this i phone . Single charge and its last for a day easily ..\\nEven the gaming experience was great',\n",
       " 'Wow superb camera phone\\nVery smooth speed and no lag , iphone is the king always\\nIts a beautiful product',\n",
       " 'I really m glad that i went for i phone in place of all other android devices like the Samsung S series nd one plus .\\nAlso , m amazed by the battery life in this i phone . Single charge and its last for a day easily ..\\nEven the gaming experience was great',\n",
       " 'Wow superb camera phone\\nVery smooth speed and no lag , iphone is the king always\\nIts a beautiful product',\n",
       " 'I really m glad that i went for i phone in place of all other android devices like the Samsung S series nd one plus .\\nAlso , m amazed by the battery life in this i phone . Single charge and its last for a day easily ..\\nEven the gaming experience was great',\n",
       " 'Wow superb camera phone\\nVery smooth speed and no lag , iphone is the king always\\nIts a beautiful product',\n",
       " 'I really m glad that i went for i phone in place of all other android devices like the Samsung S series nd one plus .\\nAlso , m amazed by the battery life in this i phone . Single charge and its last for a day easily ..\\nEven the gaming experience was great',\n",
       " 'Wow superb camera phone\\nVery smooth speed and no lag , iphone is the king always\\nIts a beautiful product',\n",
       " 'I really m glad that i went for i phone in place of all other android devices like the Samsung S series nd one plus .\\nAlso , m amazed by the battery life in this i phone . Single charge and its last for a day easily ..\\nEven the gaming experience was great',\n",
       " 'Wow superb camera phone\\nVery smooth speed and no lag , iphone is the king always\\nIts a beautiful product',\n",
       " 'I really m glad that i went for i phone in place of all other android devices like the Samsung S series nd one plus .\\nAlso , m amazed by the battery life in this i phone . Single charge and its last for a day easily ..\\nEven the gaming experience was great',\n",
       " 'Wow superb camera phone\\nVery smooth speed and no lag , iphone is the king always\\nIts a beautiful product',\n",
       " 'I really m glad that i went for i phone in place of all other android devices like the Samsung S series nd one plus .\\nAlso , m amazed by the battery life in this i phone . Single charge and its last for a day easily ..\\nEven the gaming experience was great',\n",
       " 'Wow superb camera phone\\nVery smooth speed and no lag , iphone is the king always\\nIts a beautiful product',\n",
       " 'I really m glad that i went for i phone in place of all other android devices like the Samsung S series nd one plus .\\nAlso , m amazed by the battery life in this i phone . Single charge and its last for a day easily ..\\nEven the gaming experience was great',\n",
       " 'Wow superb camera phone\\nVery smooth speed and no lag , iphone is the king always\\nIts a beautiful product',\n",
       " 'I really m glad that i went for i phone in place of all other android devices like the Samsung S series nd one plus .\\nAlso , m amazed by the battery life in this i phone . Single charge and its last for a day easily ..\\nEven the gaming experience was great',\n",
       " 'Wow superb camera phone\\nVery smooth speed and no lag , iphone is the king always\\nIts a beautiful product',\n",
       " 'I really m glad that i went for i phone in place of all other android devices like the Samsung S series nd one plus .\\nAlso , m amazed by the battery life in this i phone . Single charge and its last for a day easily ..\\nEven the gaming experience was great',\n",
       " 'Wow superb camera phone\\nVery smooth speed and no lag , iphone is the king always\\nIts a beautiful product',\n",
       " 'I really m glad that i went for i phone in place of all other android devices like the Samsung S series nd one plus .\\nAlso , m amazed by the battery life in this i phone . Single charge and its last for a day easily ..\\nEven the gaming experience was great',\n",
       " 'Wow superb camera phone\\nVery smooth speed and no lag , iphone is the king always\\nIts a beautiful product',\n",
       " 'I really m glad that i went for i phone in place of all other android devices like the Samsung S series nd one plus .\\nAlso , m amazed by the battery life in this i phone . Single charge and its last for a day easily ..\\nEven the gaming experience was great',\n",
       " 'Wow superb camera phone\\nVery smooth speed and no lag , iphone is the king always\\nIts a beautiful product',\n",
       " 'I really m glad that i went for i phone in place of all other android devices like the Samsung S series nd one plus .\\nAlso , m amazed by the battery life in this i phone . Single charge and its last for a day easily ..\\nEven the gaming experience was great',\n",
       " 'Wow superb camera phone\\nVery smooth speed and no lag , iphone is the king always\\nIts a beautiful product',\n",
       " 'I really m glad that i went for i phone in place of all other android devices like the Samsung S series nd one plus .\\nAlso , m amazed by the battery life in this i phone . Single charge and its last for a day easily ..\\nEven the gaming experience was great',\n",
       " 'Wow superb camera phone\\nVery smooth speed and no lag , iphone is the king always\\nIts a beautiful product',\n",
       " 'I really m glad that i went for i phone in place of all other android devices like the Samsung S series nd one plus .\\nAlso , m amazed by the battery life in this i phone . Single charge and its last for a day easily ..\\nEven the gaming experience was great',\n",
       " 'Wow superb camera phone\\nVery smooth speed and no lag , iphone is the king always\\nIts a beautiful product',\n",
       " 'I really m glad that i went for i phone in place of all other android devices like the Samsung S series nd one plus .\\nAlso , m amazed by the battery life in this i phone . Single charge and its last for a day easily ..\\nEven the gaming experience was great',\n",
       " 'Wow superb camera phone\\nVery smooth speed and no lag , iphone is the king always\\nIts a beautiful product',\n",
       " 'I really m glad that i went for i phone in place of all other android devices like the Samsung S series nd one plus .\\nAlso , m amazed by the battery life in this i phone . Single charge and its last for a day easily ..\\nEven the gaming experience was great']"
      ]
     },
     "execution_count": 52,
     "metadata": {},
     "output_type": "execute_result"
    }
   ],
   "source": [
    "Fullreview"
   ]
  },
  {
   "cell_type": "code",
   "execution_count": null,
   "id": "772b7115",
   "metadata": {},
   "outputs": [],
   "source": []
  },
  {
   "cell_type": "code",
   "execution_count": 53,
   "id": "e6111fd9",
   "metadata": {},
   "outputs": [
    {
     "data": {
      "text/html": [
       "<div>\n",
       "<style scoped>\n",
       "    .dataframe tbody tr th:only-of-type {\n",
       "        vertical-align: middle;\n",
       "    }\n",
       "\n",
       "    .dataframe tbody tr th {\n",
       "        vertical-align: top;\n",
       "    }\n",
       "\n",
       "    .dataframe thead th {\n",
       "        text-align: right;\n",
       "    }\n",
       "</style>\n",
       "<table border=\"1\" class=\"dataframe\">\n",
       "  <thead>\n",
       "    <tr style=\"text-align: right;\">\n",
       "      <th></th>\n",
       "      <th>Ratings</th>\n",
       "      <th>Review summary</th>\n",
       "      <th>Full review</th>\n",
       "    </tr>\n",
       "  </thead>\n",
       "  <tbody>\n",
       "    <tr>\n",
       "      <th>0</th>\n",
       "      <td>5</td>\n",
       "      <td>Terrific</td>\n",
       "      <td>Wow superb camera phone\\nVery smooth speed and...</td>\n",
       "    </tr>\n",
       "    <tr>\n",
       "      <th>1</th>\n",
       "      <td>5</td>\n",
       "      <td>Perfect product!</td>\n",
       "      <td>I really m glad that i went for i phone in pla...</td>\n",
       "    </tr>\n",
       "    <tr>\n",
       "      <th>2</th>\n",
       "      <td>5</td>\n",
       "      <td>Terrific purchase</td>\n",
       "      <td>Wow superb camera phone\\nVery smooth speed and...</td>\n",
       "    </tr>\n",
       "    <tr>\n",
       "      <th>3</th>\n",
       "      <td>5</td>\n",
       "      <td>Mind-blowing purchase</td>\n",
       "      <td>I really m glad that i went for i phone in pla...</td>\n",
       "    </tr>\n",
       "    <tr>\n",
       "      <th>4</th>\n",
       "      <td>5</td>\n",
       "      <td>Awesome</td>\n",
       "      <td>Wow superb camera phone\\nVery smooth speed and...</td>\n",
       "    </tr>\n",
       "    <tr>\n",
       "      <th>...</th>\n",
       "      <td>...</td>\n",
       "      <td>...</td>\n",
       "      <td>...</td>\n",
       "    </tr>\n",
       "    <tr>\n",
       "      <th>95</th>\n",
       "      <td>5</td>\n",
       "      <td>Terrific</td>\n",
       "      <td>I really m glad that i went for i phone in pla...</td>\n",
       "    </tr>\n",
       "    <tr>\n",
       "      <th>96</th>\n",
       "      <td>5</td>\n",
       "      <td>Brilliant</td>\n",
       "      <td>Wow superb camera phone\\nVery smooth speed and...</td>\n",
       "    </tr>\n",
       "    <tr>\n",
       "      <th>97</th>\n",
       "      <td>5</td>\n",
       "      <td>Just wow!</td>\n",
       "      <td>I really m glad that i went for i phone in pla...</td>\n",
       "    </tr>\n",
       "    <tr>\n",
       "      <th>98</th>\n",
       "      <td>5</td>\n",
       "      <td>Pretty good</td>\n",
       "      <td>Wow superb camera phone\\nVery smooth speed and...</td>\n",
       "    </tr>\n",
       "    <tr>\n",
       "      <th>99</th>\n",
       "      <td>5</td>\n",
       "      <td>Great product</td>\n",
       "      <td>I really m glad that i went for i phone in pla...</td>\n",
       "    </tr>\n",
       "  </tbody>\n",
       "</table>\n",
       "<p>100 rows × 3 columns</p>\n",
       "</div>"
      ],
      "text/plain": [
       "   Ratings         Review summary  \\\n",
       "0        5               Terrific   \n",
       "1        5       Perfect product!   \n",
       "2        5      Terrific purchase   \n",
       "3        5  Mind-blowing purchase   \n",
       "4        5                Awesome   \n",
       "..     ...                    ...   \n",
       "95       5               Terrific   \n",
       "96       5              Brilliant   \n",
       "97       5              Just wow!   \n",
       "98       5            Pretty good   \n",
       "99       5          Great product   \n",
       "\n",
       "                                          Full review  \n",
       "0   Wow superb camera phone\\nVery smooth speed and...  \n",
       "1   I really m glad that i went for i phone in pla...  \n",
       "2   Wow superb camera phone\\nVery smooth speed and...  \n",
       "3   I really m glad that i went for i phone in pla...  \n",
       "4   Wow superb camera phone\\nVery smooth speed and...  \n",
       "..                                                ...  \n",
       "95  I really m glad that i went for i phone in pla...  \n",
       "96  Wow superb camera phone\\nVery smooth speed and...  \n",
       "97  I really m glad that i went for i phone in pla...  \n",
       "98  Wow superb camera phone\\nVery smooth speed and...  \n",
       "99  I really m glad that i went for i phone in pla...  \n",
       "\n",
       "[100 rows x 3 columns]"
      ]
     },
     "execution_count": 53,
     "metadata": {},
     "output_type": "execute_result"
    }
   ],
   "source": [
    "df=pd.DataFrame({'Ratings':Ratings1,'Review summary':Reviewsummary,'Full review':Fullreview})\n",
    "df"
   ]
  },
  {
   "cell_type": "markdown",
   "id": "dead342c",
   "metadata": {},
   "source": [
    "6) Scraping first 100 datas of sneakers from flipkart.com"
   ]
  },
  {
   "cell_type": "code",
   "execution_count": 347,
   "id": "a5734030",
   "metadata": {},
   "outputs": [],
   "source": [
    "driver=webdriver.Chrome(r\"C:\\Users\\Hello world\\Downloads\\chromedriver_win32\\chromedriver.exe\")"
   ]
  },
  {
   "cell_type": "code",
   "execution_count": 348,
   "id": "caba70ad",
   "metadata": {},
   "outputs": [],
   "source": [
    "driver.get(\"https://www.flipkart.com/\")"
   ]
  },
  {
   "cell_type": "code",
   "execution_count": 349,
   "id": "d1651dc5",
   "metadata": {},
   "outputs": [],
   "source": [
    "Product=driver.find_element(By.XPATH,\"/html/body/div[1]/div/div[1]/div[1]/div[2]/div[2]/form/div/div/input\")\n",
    "Product.send_keys('sneakers')"
   ]
  },
  {
   "cell_type": "code",
   "execution_count": 350,
   "id": "c112a84f",
   "metadata": {},
   "outputs": [],
   "source": [
    "Search=driver.find_element(By.XPATH,'/html/body/div[1]/div/div[1]/div[1]/div[2]/div[2]/form/div/button')\n",
    "Search.click()"
   ]
  },
  {
   "cell_type": "code",
   "execution_count": 352,
   "id": "6407cc57",
   "metadata": {},
   "outputs": [],
   "source": [
    "Brand_name1=[]\n",
    "\n",
    "for page in range(0,3):\n",
    "    name=driver.find_elements(By.XPATH,'//div[@class=\"_2WkVRV\"]')\n",
    "    for i in name:\n",
    "        Brand_name1.append(i.text)\n",
    "    nxt_button=driver.find_element(By.XPATH,'//a[@class=\"_1LKTO3\"]')\n",
    "    nxt_button.click()\n",
    "    time.sleep(2)"
   ]
  },
  {
   "cell_type": "code",
   "execution_count": 353,
   "id": "c6d5b54b",
   "metadata": {},
   "outputs": [
    {
     "data": {
      "text/plain": [
       "120"
      ]
     },
     "execution_count": 353,
     "metadata": {},
     "output_type": "execute_result"
    }
   ],
   "source": [
    "len(Brand_name1)"
   ]
  },
  {
   "cell_type": "code",
   "execution_count": 354,
   "id": "939a0540",
   "metadata": {},
   "outputs": [
    {
     "data": {
      "text/plain": [
       "['WHITE WALKERS',\n",
       " 'RED TAPE',\n",
       " 'K- FOOTLANCE',\n",
       " 'asian',\n",
       " 'BRUTON',\n",
       " 'Sparx',\n",
       " 'PUMA',\n",
       " 'asics',\n",
       " 'Shozie',\n",
       " 'BRUTON',\n",
       " 'World Wear Footwear',\n",
       " 'BRUTON',\n",
       " 'Layasa',\n",
       " 'WOODLAND',\n",
       " 'Brainer',\n",
       " 'asics',\n",
       " 'aadi',\n",
       " 'Airland',\n",
       " 'RapidBox',\n",
       " 'asics',\n",
       " 'RED TAPE',\n",
       " 'BRUTON',\n",
       " 'World Wear Footwear',\n",
       " 'BRUTON',\n",
       " 'Kzaara',\n",
       " 'luxury fashion',\n",
       " 'Shozie',\n",
       " 'NIKE',\n",
       " 'D-SNEAKERZ',\n",
       " 'PUMA',\n",
       " 'K- FOOTLANCE',\n",
       " 'BIRDE',\n",
       " 'HIGHLANDER',\n",
       " 'BIRDE',\n",
       " 'HIGHLANDER',\n",
       " 'GNOCCHI',\n",
       " \"Neeman's\",\n",
       " 'World Wear Footwear',\n",
       " 'Chevit',\n",
       " 'NIKE',\n",
       " 'BIRDE',\n",
       " 'BRUTON',\n",
       " 'BRUTON',\n",
       " 'World Wear Footwear',\n",
       " 'Labbin',\n",
       " 'World Wear Footwear',\n",
       " 'World Wear Footwear',\n",
       " 'Mozafia',\n",
       " 'TR',\n",
       " 'Magnolia',\n",
       " 'Kraasa',\n",
       " 'believe',\n",
       " 'Magnolia',\n",
       " 'BRUTON',\n",
       " 'BRUTON',\n",
       " 'Dicy',\n",
       " \"K' Footlance\",\n",
       " 'PUMA',\n",
       " 'RED TAPE',\n",
       " 'DUCATI',\n",
       " 'World Wear Footwear',\n",
       " 'Robbie jones',\n",
       " 'Shozie',\n",
       " 'Dicy',\n",
       " 'Rzisbo',\n",
       " 'BRUTON',\n",
       " 'SCATCHITE',\n",
       " \"'Trends'\",\n",
       " 'aadi',\n",
       " 'Magnolia',\n",
       " 'tigonis',\n",
       " 'EZDEZARIO',\n",
       " 'Elevarse',\n",
       " 'BRUTON',\n",
       " 'Deals4you',\n",
       " 'Mast & Harbour',\n",
       " 'ASTEROID',\n",
       " 'aadi',\n",
       " 'aadi',\n",
       " 'Bata',\n",
       " 'WHITE WALKERS',\n",
       " 'RED TAPE',\n",
       " 'K- FOOTLANCE',\n",
       " 'asian',\n",
       " 'BRUTON',\n",
       " 'Sparx',\n",
       " 'PUMA',\n",
       " 'asics',\n",
       " 'Shozie',\n",
       " 'BRUTON',\n",
       " 'World Wear Footwear',\n",
       " 'BRUTON',\n",
       " 'Layasa',\n",
       " 'WOODLAND',\n",
       " 'Brainer',\n",
       " 'asics',\n",
       " 'aadi',\n",
       " 'Airland',\n",
       " 'RapidBox',\n",
       " 'asics',\n",
       " 'RED TAPE',\n",
       " 'BRUTON',\n",
       " 'World Wear Footwear',\n",
       " 'BRUTON',\n",
       " 'Kzaara',\n",
       " 'luxury fashion',\n",
       " 'Shozie',\n",
       " 'NIKE',\n",
       " 'D-SNEAKERZ',\n",
       " 'PUMA',\n",
       " 'K- FOOTLANCE',\n",
       " 'BIRDE',\n",
       " 'HIGHLANDER',\n",
       " 'BIRDE',\n",
       " 'HIGHLANDER',\n",
       " 'GNOCCHI',\n",
       " \"Neeman's\",\n",
       " 'World Wear Footwear',\n",
       " 'Chevit',\n",
       " 'NIKE']"
      ]
     },
     "execution_count": 354,
     "metadata": {},
     "output_type": "execute_result"
    }
   ],
   "source": [
    "Brand_name1"
   ]
  },
  {
   "cell_type": "code",
   "execution_count": 358,
   "id": "fbb7784c",
   "metadata": {},
   "outputs": [],
   "source": [
    "Product_NAME=[]\n",
    "\n",
    "for i in Brand_name1[0:100]:\n",
    "    Product_NAME.append(i)"
   ]
  },
  {
   "cell_type": "code",
   "execution_count": 359,
   "id": "82429b09",
   "metadata": {},
   "outputs": [
    {
     "data": {
      "text/plain": [
       "100"
      ]
     },
     "execution_count": 359,
     "metadata": {},
     "output_type": "execute_result"
    }
   ],
   "source": [
    "len(Product_NAME)"
   ]
  },
  {
   "cell_type": "code",
   "execution_count": 360,
   "id": "e1f02b89",
   "metadata": {},
   "outputs": [
    {
     "data": {
      "text/plain": [
       "['WHITE WALKERS',\n",
       " 'RED TAPE',\n",
       " 'K- FOOTLANCE',\n",
       " 'asian',\n",
       " 'BRUTON',\n",
       " 'Sparx',\n",
       " 'PUMA',\n",
       " 'asics',\n",
       " 'Shozie',\n",
       " 'BRUTON',\n",
       " 'World Wear Footwear',\n",
       " 'BRUTON',\n",
       " 'Layasa',\n",
       " 'WOODLAND',\n",
       " 'Brainer',\n",
       " 'asics',\n",
       " 'aadi',\n",
       " 'Airland',\n",
       " 'RapidBox',\n",
       " 'asics',\n",
       " 'RED TAPE',\n",
       " 'BRUTON',\n",
       " 'World Wear Footwear',\n",
       " 'BRUTON',\n",
       " 'Kzaara',\n",
       " 'luxury fashion',\n",
       " 'Shozie',\n",
       " 'NIKE',\n",
       " 'D-SNEAKERZ',\n",
       " 'PUMA',\n",
       " 'K- FOOTLANCE',\n",
       " 'BIRDE',\n",
       " 'HIGHLANDER',\n",
       " 'BIRDE',\n",
       " 'HIGHLANDER',\n",
       " 'GNOCCHI',\n",
       " \"Neeman's\",\n",
       " 'World Wear Footwear',\n",
       " 'Chevit',\n",
       " 'NIKE',\n",
       " 'BIRDE',\n",
       " 'BRUTON',\n",
       " 'BRUTON',\n",
       " 'World Wear Footwear',\n",
       " 'Labbin',\n",
       " 'World Wear Footwear',\n",
       " 'World Wear Footwear',\n",
       " 'Mozafia',\n",
       " 'TR',\n",
       " 'Magnolia',\n",
       " 'Kraasa',\n",
       " 'believe',\n",
       " 'Magnolia',\n",
       " 'BRUTON',\n",
       " 'BRUTON',\n",
       " 'Dicy',\n",
       " \"K' Footlance\",\n",
       " 'PUMA',\n",
       " 'RED TAPE',\n",
       " 'DUCATI',\n",
       " 'World Wear Footwear',\n",
       " 'Robbie jones',\n",
       " 'Shozie',\n",
       " 'Dicy',\n",
       " 'Rzisbo',\n",
       " 'BRUTON',\n",
       " 'SCATCHITE',\n",
       " \"'Trends'\",\n",
       " 'aadi',\n",
       " 'Magnolia',\n",
       " 'tigonis',\n",
       " 'EZDEZARIO',\n",
       " 'Elevarse',\n",
       " 'BRUTON',\n",
       " 'Deals4you',\n",
       " 'Mast & Harbour',\n",
       " 'ASTEROID',\n",
       " 'aadi',\n",
       " 'aadi',\n",
       " 'Bata',\n",
       " 'WHITE WALKERS',\n",
       " 'RED TAPE',\n",
       " 'K- FOOTLANCE',\n",
       " 'asian',\n",
       " 'BRUTON',\n",
       " 'Sparx',\n",
       " 'PUMA',\n",
       " 'asics',\n",
       " 'Shozie',\n",
       " 'BRUTON',\n",
       " 'World Wear Footwear',\n",
       " 'BRUTON',\n",
       " 'Layasa',\n",
       " 'WOODLAND',\n",
       " 'Brainer',\n",
       " 'asics',\n",
       " 'aadi',\n",
       " 'Airland',\n",
       " 'RapidBox',\n",
       " 'asics']"
      ]
     },
     "execution_count": 360,
     "metadata": {},
     "output_type": "execute_result"
    }
   ],
   "source": [
    "Product_NAME"
   ]
  },
  {
   "cell_type": "code",
   "execution_count": 361,
   "id": "75fb73d7",
   "metadata": {},
   "outputs": [],
   "source": [
    "Product_Descs1=[]\n",
    "\n",
    "for page in range(0,3):\n",
    "    Desc_tag=driver.find_elements(By.XPATH,'//a[@class=\"IRpwTa\"]')\n",
    "    for i in Desc_tag:\n",
    "        Product_Descs1.append(i.text)\n",
    "    nxt_button=driver.find_element(By.XPATH,'//a[@class=\"_1LKTO3\"]')\n",
    "    nxt_button.click()\n",
    "    time.sleep(2)"
   ]
  },
  {
   "cell_type": "code",
   "execution_count": 362,
   "id": "ceb9d427",
   "metadata": {},
   "outputs": [
    {
     "data": {
      "text/plain": [
       "115"
      ]
     },
     "execution_count": 362,
     "metadata": {},
     "output_type": "execute_result"
    }
   ],
   "source": [
    "len(Product_Descs1)"
   ]
  },
  {
   "cell_type": "code",
   "execution_count": 363,
   "id": "10e6f137",
   "metadata": {},
   "outputs": [
    {
     "data": {
      "text/plain": [
       "['Premium White Casual Shoes Sneakers For Men Sneakers Fo...',\n",
       " 'Modern Trendy Sneakers Shoes Sneakers For Men',\n",
       " 'Lightweight Pack Of 1 Trendy Sneakers Sneakers For Men',\n",
       " 'Latest Collection-1215 Stylish Casual Sports Sneakers F...',\n",
       " 'Sneakers For Men',\n",
       " 'Latest Collection-1216 Stylish Casual Sports Sneakers F...',\n",
       " 'Latest Collection Black-349 Trendy & Stylish Casual Sne...',\n",
       " 'Canvas Casuals Shoes Sneakers For Women',\n",
       " 'Sneakers For Men',\n",
       " 'Casuals, Canvas, Partywear Sneakers For Men',\n",
       " 'Sneakers For Women',\n",
       " 'Sneakers For Men',\n",
       " 'Lattest Sneakers Shoe Sneakers For Men',\n",
       " 'Modern Trendy Sneakers Shoes Sneakers For Men',\n",
       " 'Modern Trendy Sneakers Shoes Sneakers For Men',\n",
       " 'Fashion and Stylish Soft Ultralight Lace Up Sneakers Ca...',\n",
       " 'Electron E Pro Sneakers For Men',\n",
       " 'Sneakers For Men',\n",
       " 'Sneakers For Men',\n",
       " 'Exclusive Affordable Collection of Trendy & Stylish Cas...',\n",
       " 'Casual Sneakers Canvas Shoes For Men Sneakers For Men',\n",
       " 'Sneakers For Men',\n",
       " 'Lightweight Comfortable Casual wear Lace-Up Shoes Sneak...',\n",
       " 'Sneakers For Men',\n",
       " 'Modern Trendy Sneakers Shoes Sneakers For Men',\n",
       " 'Sneakers Sneakers For Men',\n",
       " 'Sneakers For Men',\n",
       " 'Sneakers For Men',\n",
       " 'Tigonis Casuals For Men Sneakers For Men (White) Sneake...',\n",
       " 'Sneakers For Men',\n",
       " 'Sneakers For Men',\n",
       " 'Sneaker Sneakers For Men',\n",
       " 'Sneakers For Women',\n",
       " 'Sneakers For Men',\n",
       " \"Original Luxury Branded Fashionable Men's Casual Walkin...\",\n",
       " 'Sneakers For Men',\n",
       " 'Mesh | Ultralightweight | Comfortable | Breathable Walk...',\n",
       " 'TELLER SNEAKER Sneakers For Men',\n",
       " 'Stylish & Trending Outdoor Walking Comfortable Sneakers...',\n",
       " 'Sneakers For Men',\n",
       " 'Sneakers For Men',\n",
       " \"Newton-01 Men's Lightweight Running Shoes Sneakers For ...\",\n",
       " 'Exclusive Sneaker Shoes Sneakers For Men',\n",
       " 'Men White Sneakers Sneakers For Men',\n",
       " 'RS-FAST GO FOR Sneakers For Men',\n",
       " 'LYTECOURT Sneakers For Men',\n",
       " 'Synthetic Leather Casual Sneaker shoes for Mens Sneaker...',\n",
       " '2 Combo Sneaker Shoes Sneakers For Men',\n",
       " 'Latest Collection-1138 Stylish Casual Sports Sneakers F...',\n",
       " 'Combo Pack Of 4 Casual Shoes Loafer Shoes Sneakers For ...',\n",
       " 'Sneakers For Women',\n",
       " 'Sneakers For Men',\n",
       " 'Sneakers For Men',\n",
       " 'AMPLICA Sneakers For Men',\n",
       " 'Sneakers For Men',\n",
       " '350 smart grey lace-ups casual for men Sneakers For Men',\n",
       " 'Sneakers For Men',\n",
       " 'PRIME JOGGER LS Sneakers For Men',\n",
       " 'Sneakers For Men',\n",
       " 'Combo Pack Of 2 Latest Stylish Casual Shoes for Men Lac...',\n",
       " 'Latest Exclusive Affordable Collection of Trendy & Styl...',\n",
       " 'Modern Trendy Sneakers Shoes Sneakers For Men',\n",
       " 'Sneakers For Men',\n",
       " 'luxury fashionable casual sneaker shoes Sneakers For Me...',\n",
       " 'Sneakers For Men',\n",
       " \"NK Court Royale AC Canvas Women's Shoes Sneakers For Wo...\",\n",
       " \"Casual , Partywear Sneakers Shoes For Men's And Boys Wh...\",\n",
       " 'Skye Clean Sneakers For Women',\n",
       " 'Sneakers For Men',\n",
       " 'Premium Casual Shoes White Sneakers For Men',\n",
       " 'Sneakers For Men',\n",
       " 'Shoes Sneakers For Men',\n",
       " 'Sneakers For Men',\n",
       " 'Sneakers For Men',\n",
       " 'Latest Collection-1227 Stylish Casual Sports Sneakers F...',\n",
       " 'Super Stylish & Trendy Combo Pack of 02 Pairs Sneakers ...',\n",
       " 'Ebernon Low Sneakers For Men',\n",
       " 'Premium White Casual Shoes Sneakers For Men Sneakers Fo...',\n",
       " 'Modern Trendy Sneakers Shoes Sneakers For Men',\n",
       " 'Lightweight Pack Of 1 Trendy Sneakers Sneakers For Men',\n",
       " 'Latest Collection-1215 Stylish Casual Sports Sneakers F...',\n",
       " 'Sneakers For Men',\n",
       " 'Latest Collection-1216 Stylish Casual Sports Sneakers F...',\n",
       " 'Latest Collection Black-349 Trendy & Stylish Casual Sne...',\n",
       " 'Canvas Casuals Shoes Sneakers For Women',\n",
       " 'Sneakers For Men',\n",
       " 'Casuals, Canvas, Partywear Sneakers For Men',\n",
       " 'Sneakers for men(black_7) Sneakers For Men',\n",
       " 'Sneakers For Men',\n",
       " 'Lattest Sneakers Shoe Sneakers For Men',\n",
       " 'Modern Trendy Sneakers Shoes Sneakers For Men',\n",
       " 'Modern Trendy Sneakers Shoes Sneakers For Men',\n",
       " 'Fashion and Stylish Soft Ultralight Lace Up Sneakers Ca...',\n",
       " 'Electron E Pro Sneakers For Men',\n",
       " 'Sneakers For Men',\n",
       " 'Sneakers For Men',\n",
       " 'Exclusive Affordable Collection of Trendy & Stylish Cas...',\n",
       " 'Casual Sneakers Canvas Shoes For Men Sneakers For Men',\n",
       " 'Sneakers For Men',\n",
       " 'Lightweight Comfortable Casual wear Lace-Up Shoes Sneak...',\n",
       " 'Sneakers For Men',\n",
       " 'Modern Trendy Sneakers Shoes Sneakers For Men',\n",
       " 'Sneakers Sneakers For Men',\n",
       " 'Sneakers For Men',\n",
       " 'Sneakers For Men',\n",
       " 'Tigonis Casuals For Men Sneakers For Men (White) Sneake...',\n",
       " 'Sneakers For Men',\n",
       " 'Sneakers For Men',\n",
       " 'Sneaker Sneakers For Men',\n",
       " 'Sneakers For Women',\n",
       " 'Sneakers For Men',\n",
       " \"Original Luxury Branded Fashionable Men's Casual Walkin...\",\n",
       " 'Sneakers For Men',\n",
       " 'Mesh | Ultralightweight | Comfortable | Breathable Walk...',\n",
       " 'TELLER SNEAKER Sneakers For Men']"
      ]
     },
     "execution_count": 363,
     "metadata": {},
     "output_type": "execute_result"
    }
   ],
   "source": [
    "Product_Descs1"
   ]
  },
  {
   "cell_type": "code",
   "execution_count": 364,
   "id": "aba9efe2",
   "metadata": {},
   "outputs": [],
   "source": [
    "D=[]\n",
    "\n",
    "for i in Product_Descs1[0:100]:\n",
    "    D.append(i)"
   ]
  },
  {
   "cell_type": "code",
   "execution_count": 365,
   "id": "2878327c",
   "metadata": {},
   "outputs": [
    {
     "data": {
      "text/plain": [
       "100"
      ]
     },
     "execution_count": 365,
     "metadata": {},
     "output_type": "execute_result"
    }
   ],
   "source": [
    "len(D)"
   ]
  },
  {
   "cell_type": "code",
   "execution_count": 366,
   "id": "649ed41d",
   "metadata": {},
   "outputs": [
    {
     "data": {
      "text/plain": [
       "['Premium White Casual Shoes Sneakers For Men Sneakers Fo...',\n",
       " 'Modern Trendy Sneakers Shoes Sneakers For Men',\n",
       " 'Lightweight Pack Of 1 Trendy Sneakers Sneakers For Men',\n",
       " 'Latest Collection-1215 Stylish Casual Sports Sneakers F...',\n",
       " 'Sneakers For Men',\n",
       " 'Latest Collection-1216 Stylish Casual Sports Sneakers F...',\n",
       " 'Latest Collection Black-349 Trendy & Stylish Casual Sne...',\n",
       " 'Canvas Casuals Shoes Sneakers For Women',\n",
       " 'Sneakers For Men',\n",
       " 'Casuals, Canvas, Partywear Sneakers For Men',\n",
       " 'Sneakers For Women',\n",
       " 'Sneakers For Men',\n",
       " 'Lattest Sneakers Shoe Sneakers For Men',\n",
       " 'Modern Trendy Sneakers Shoes Sneakers For Men',\n",
       " 'Modern Trendy Sneakers Shoes Sneakers For Men',\n",
       " 'Fashion and Stylish Soft Ultralight Lace Up Sneakers Ca...',\n",
       " 'Electron E Pro Sneakers For Men',\n",
       " 'Sneakers For Men',\n",
       " 'Sneakers For Men',\n",
       " 'Exclusive Affordable Collection of Trendy & Stylish Cas...',\n",
       " 'Casual Sneakers Canvas Shoes For Men Sneakers For Men',\n",
       " 'Sneakers For Men',\n",
       " 'Lightweight Comfortable Casual wear Lace-Up Shoes Sneak...',\n",
       " 'Sneakers For Men',\n",
       " 'Modern Trendy Sneakers Shoes Sneakers For Men',\n",
       " 'Sneakers Sneakers For Men',\n",
       " 'Sneakers For Men',\n",
       " 'Sneakers For Men',\n",
       " 'Tigonis Casuals For Men Sneakers For Men (White) Sneake...',\n",
       " 'Sneakers For Men',\n",
       " 'Sneakers For Men',\n",
       " 'Sneaker Sneakers For Men',\n",
       " 'Sneakers For Women',\n",
       " 'Sneakers For Men',\n",
       " \"Original Luxury Branded Fashionable Men's Casual Walkin...\",\n",
       " 'Sneakers For Men',\n",
       " 'Mesh | Ultralightweight | Comfortable | Breathable Walk...',\n",
       " 'TELLER SNEAKER Sneakers For Men',\n",
       " 'Stylish & Trending Outdoor Walking Comfortable Sneakers...',\n",
       " 'Sneakers For Men',\n",
       " 'Sneakers For Men',\n",
       " \"Newton-01 Men's Lightweight Running Shoes Sneakers For ...\",\n",
       " 'Exclusive Sneaker Shoes Sneakers For Men',\n",
       " 'Men White Sneakers Sneakers For Men',\n",
       " 'RS-FAST GO FOR Sneakers For Men',\n",
       " 'LYTECOURT Sneakers For Men',\n",
       " 'Synthetic Leather Casual Sneaker shoes for Mens Sneaker...',\n",
       " '2 Combo Sneaker Shoes Sneakers For Men',\n",
       " 'Latest Collection-1138 Stylish Casual Sports Sneakers F...',\n",
       " 'Combo Pack Of 4 Casual Shoes Loafer Shoes Sneakers For ...',\n",
       " 'Sneakers For Women',\n",
       " 'Sneakers For Men',\n",
       " 'Sneakers For Men',\n",
       " 'AMPLICA Sneakers For Men',\n",
       " 'Sneakers For Men',\n",
       " '350 smart grey lace-ups casual for men Sneakers For Men',\n",
       " 'Sneakers For Men',\n",
       " 'PRIME JOGGER LS Sneakers For Men',\n",
       " 'Sneakers For Men',\n",
       " 'Combo Pack Of 2 Latest Stylish Casual Shoes for Men Lac...',\n",
       " 'Latest Exclusive Affordable Collection of Trendy & Styl...',\n",
       " 'Modern Trendy Sneakers Shoes Sneakers For Men',\n",
       " 'Sneakers For Men',\n",
       " 'luxury fashionable casual sneaker shoes Sneakers For Me...',\n",
       " 'Sneakers For Men',\n",
       " \"NK Court Royale AC Canvas Women's Shoes Sneakers For Wo...\",\n",
       " \"Casual , Partywear Sneakers Shoes For Men's And Boys Wh...\",\n",
       " 'Skye Clean Sneakers For Women',\n",
       " 'Sneakers For Men',\n",
       " 'Premium Casual Shoes White Sneakers For Men',\n",
       " 'Sneakers For Men',\n",
       " 'Shoes Sneakers For Men',\n",
       " 'Sneakers For Men',\n",
       " 'Sneakers For Men',\n",
       " 'Latest Collection-1227 Stylish Casual Sports Sneakers F...',\n",
       " 'Super Stylish & Trendy Combo Pack of 02 Pairs Sneakers ...',\n",
       " 'Ebernon Low Sneakers For Men',\n",
       " 'Premium White Casual Shoes Sneakers For Men Sneakers Fo...',\n",
       " 'Modern Trendy Sneakers Shoes Sneakers For Men',\n",
       " 'Lightweight Pack Of 1 Trendy Sneakers Sneakers For Men',\n",
       " 'Latest Collection-1215 Stylish Casual Sports Sneakers F...',\n",
       " 'Sneakers For Men',\n",
       " 'Latest Collection-1216 Stylish Casual Sports Sneakers F...',\n",
       " 'Latest Collection Black-349 Trendy & Stylish Casual Sne...',\n",
       " 'Canvas Casuals Shoes Sneakers For Women',\n",
       " 'Sneakers For Men',\n",
       " 'Casuals, Canvas, Partywear Sneakers For Men',\n",
       " 'Sneakers for men(black_7) Sneakers For Men',\n",
       " 'Sneakers For Men',\n",
       " 'Lattest Sneakers Shoe Sneakers For Men',\n",
       " 'Modern Trendy Sneakers Shoes Sneakers For Men',\n",
       " 'Modern Trendy Sneakers Shoes Sneakers For Men',\n",
       " 'Fashion and Stylish Soft Ultralight Lace Up Sneakers Ca...',\n",
       " 'Electron E Pro Sneakers For Men',\n",
       " 'Sneakers For Men',\n",
       " 'Sneakers For Men',\n",
       " 'Exclusive Affordable Collection of Trendy & Stylish Cas...',\n",
       " 'Casual Sneakers Canvas Shoes For Men Sneakers For Men',\n",
       " 'Sneakers For Men',\n",
       " 'Lightweight Comfortable Casual wear Lace-Up Shoes Sneak...']"
      ]
     },
     "execution_count": 366,
     "metadata": {},
     "output_type": "execute_result"
    }
   ],
   "source": [
    "D"
   ]
  },
  {
   "cell_type": "code",
   "execution_count": 176,
   "id": "ba74cff0",
   "metadata": {},
   "outputs": [],
   "source": [
    "Rate=[]\n",
    "\n",
    "for page in range(0,3):\n",
    "    r_tag=driver.find_elements(By.XPATH,'//div[@class=\"_30jeq3\"]')\n",
    "    for i in r_tag:\n",
    "        Rate.append(i.text)\n",
    "    nxt_button=driver.find_element(By.XPATH,'//a[@class=\"_1LKTO3\"]')\n",
    "    nxt_button.click()\n",
    "    time.sleep(2)"
   ]
  },
  {
   "cell_type": "code",
   "execution_count": 177,
   "id": "fa8817a1",
   "metadata": {},
   "outputs": [
    {
     "data": {
      "text/plain": [
       "120"
      ]
     },
     "execution_count": 177,
     "metadata": {},
     "output_type": "execute_result"
    }
   ],
   "source": [
    "len(Rate)"
   ]
  },
  {
   "cell_type": "code",
   "execution_count": 178,
   "id": "09dd5585",
   "metadata": {},
   "outputs": [
    {
     "data": {
      "text/plain": [
       "['₹319',\n",
       " '₹319',\n",
       " '₹143',\n",
       " '₹143',\n",
       " '₹239',\n",
       " '₹319',\n",
       " '₹239',\n",
       " '₹1,038',\n",
       " '₹143',\n",
       " '₹179',\n",
       " '₹1,399',\n",
       " '₹239',\n",
       " '₹239',\n",
       " '₹342',\n",
       " '₹195',\n",
       " '₹379',\n",
       " '₹191',\n",
       " '₹399',\n",
       " '₹239',\n",
       " '₹1,049',\n",
       " '₹239',\n",
       " '₹315',\n",
       " '₹329',\n",
       " '₹511',\n",
       " '₹318',\n",
       " '₹288',\n",
       " '₹399',\n",
       " '₹1,414',\n",
       " '₹399',\n",
       " '₹239',\n",
       " '₹223',\n",
       " '₹1,699',\n",
       " '₹159',\n",
       " '₹206',\n",
       " '₹1,749',\n",
       " '₹740',\n",
       " '₹239',\n",
       " '₹239',\n",
       " '₹399',\n",
       " '₹737',\n",
       " '₹143',\n",
       " '₹409',\n",
       " '₹287',\n",
       " '₹998',\n",
       " '₹1,399',\n",
       " '₹939',\n",
       " '₹319',\n",
       " '₹239',\n",
       " '₹1,298',\n",
       " '₹319',\n",
       " '₹260',\n",
       " '₹319',\n",
       " '₹319',\n",
       " '₹216',\n",
       " '₹239',\n",
       " '₹380',\n",
       " '₹399',\n",
       " '₹4,199',\n",
       " '₹583',\n",
       " '₹911',\n",
       " '₹449',\n",
       " '₹135',\n",
       " '₹399',\n",
       " '₹659',\n",
       " '₹393',\n",
       " '₹1,399',\n",
       " '₹260',\n",
       " '₹449',\n",
       " '₹239',\n",
       " '₹143',\n",
       " '₹596',\n",
       " '₹227',\n",
       " '₹239',\n",
       " '₹596',\n",
       " '₹236',\n",
       " '₹315',\n",
       " '₹159',\n",
       " '₹159',\n",
       " '₹159',\n",
       " '₹319',\n",
       " '₹319',\n",
       " '₹319',\n",
       " '₹143',\n",
       " '₹143',\n",
       " '₹239',\n",
       " '₹239',\n",
       " '₹143',\n",
       " '₹319',\n",
       " '₹179',\n",
       " '₹1,399',\n",
       " '₹239',\n",
       " '₹239',\n",
       " '₹342',\n",
       " '₹195',\n",
       " '₹191',\n",
       " '₹379',\n",
       " '₹399',\n",
       " '₹239',\n",
       " '₹239',\n",
       " '₹1,049',\n",
       " '₹315',\n",
       " '₹329',\n",
       " '₹318',\n",
       " '₹511',\n",
       " '₹288',\n",
       " '₹399',\n",
       " '₹399',\n",
       " '₹1,414',\n",
       " '₹239',\n",
       " '₹223',\n",
       " '₹159',\n",
       " '₹1,699',\n",
       " '₹206',\n",
       " '₹1,749',\n",
       " '₹239',\n",
       " '₹740',\n",
       " '₹239',\n",
       " '₹399',\n",
       " '₹143',\n",
       " '₹737']"
      ]
     },
     "execution_count": 178,
     "metadata": {},
     "output_type": "execute_result"
    }
   ],
   "source": [
    "Rate"
   ]
  },
  {
   "cell_type": "code",
   "execution_count": 367,
   "id": "33fc0035",
   "metadata": {},
   "outputs": [],
   "source": [
    "R=[]\n",
    "\n",
    "for i in Rate[0:100]:\n",
    "    R.append(i)"
   ]
  },
  {
   "cell_type": "code",
   "execution_count": 368,
   "id": "3a7a1fd4",
   "metadata": {},
   "outputs": [
    {
     "data": {
      "text/plain": [
       "100"
      ]
     },
     "execution_count": 368,
     "metadata": {},
     "output_type": "execute_result"
    }
   ],
   "source": [
    "len(R)"
   ]
  },
  {
   "cell_type": "code",
   "execution_count": 369,
   "id": "6ccb1b11",
   "metadata": {},
   "outputs": [
    {
     "data": {
      "text/plain": [
       "['₹319',\n",
       " '₹319',\n",
       " '₹143',\n",
       " '₹143',\n",
       " '₹239',\n",
       " '₹319',\n",
       " '₹239',\n",
       " '₹1,038',\n",
       " '₹143',\n",
       " '₹179',\n",
       " '₹1,399',\n",
       " '₹239',\n",
       " '₹239',\n",
       " '₹342',\n",
       " '₹195',\n",
       " '₹379',\n",
       " '₹191',\n",
       " '₹399',\n",
       " '₹239',\n",
       " '₹1,049',\n",
       " '₹239',\n",
       " '₹315',\n",
       " '₹329',\n",
       " '₹511',\n",
       " '₹318',\n",
       " '₹288',\n",
       " '₹399',\n",
       " '₹1,414',\n",
       " '₹399',\n",
       " '₹239',\n",
       " '₹223',\n",
       " '₹1,699',\n",
       " '₹159',\n",
       " '₹206',\n",
       " '₹1,749',\n",
       " '₹740',\n",
       " '₹239',\n",
       " '₹239',\n",
       " '₹399',\n",
       " '₹737',\n",
       " '₹143',\n",
       " '₹409',\n",
       " '₹287',\n",
       " '₹998',\n",
       " '₹1,399',\n",
       " '₹939',\n",
       " '₹319',\n",
       " '₹239',\n",
       " '₹1,298',\n",
       " '₹319',\n",
       " '₹260',\n",
       " '₹319',\n",
       " '₹319',\n",
       " '₹216',\n",
       " '₹239',\n",
       " '₹380',\n",
       " '₹399',\n",
       " '₹4,199',\n",
       " '₹583',\n",
       " '₹911',\n",
       " '₹449',\n",
       " '₹135',\n",
       " '₹399',\n",
       " '₹659',\n",
       " '₹393',\n",
       " '₹1,399',\n",
       " '₹260',\n",
       " '₹449',\n",
       " '₹239',\n",
       " '₹143',\n",
       " '₹596',\n",
       " '₹227',\n",
       " '₹239',\n",
       " '₹596',\n",
       " '₹236',\n",
       " '₹315',\n",
       " '₹159',\n",
       " '₹159',\n",
       " '₹159',\n",
       " '₹319',\n",
       " '₹319',\n",
       " '₹319',\n",
       " '₹143',\n",
       " '₹143',\n",
       " '₹239',\n",
       " '₹239',\n",
       " '₹143',\n",
       " '₹319',\n",
       " '₹179',\n",
       " '₹1,399',\n",
       " '₹239',\n",
       " '₹239',\n",
       " '₹342',\n",
       " '₹195',\n",
       " '₹191',\n",
       " '₹379',\n",
       " '₹399',\n",
       " '₹239',\n",
       " '₹239',\n",
       " '₹1,049']"
      ]
     },
     "execution_count": 369,
     "metadata": {},
     "output_type": "execute_result"
    }
   ],
   "source": [
    "R"
   ]
  },
  {
   "cell_type": "code",
   "execution_count": 179,
   "id": "9a037f58",
   "metadata": {},
   "outputs": [],
   "source": [
    "Offer=[]\n",
    "\n",
    "for page in range(0,3):\n",
    "    o_tag=driver.find_elements(By.XPATH,'//div[@class=\"_3Ay6Sb\"]')\n",
    "    for i in o_tag:\n",
    "        Offer.append(i.text)\n",
    "    nxt_button=driver.find_element(By.XPATH,'//a[@class=\"_1LKTO3\"]')\n",
    "    nxt_button.click()\n",
    "    time.sleep(2)"
   ]
  },
  {
   "cell_type": "code",
   "execution_count": 180,
   "id": "5e57036b",
   "metadata": {},
   "outputs": [
    {
     "data": {
      "text/plain": [
       "120"
      ]
     },
     "execution_count": 180,
     "metadata": {},
     "output_type": "execute_result"
    }
   ],
   "source": [
    "len(Offer)"
   ]
  },
  {
   "cell_type": "code",
   "execution_count": 181,
   "id": "81b527c3",
   "metadata": {},
   "outputs": [
    {
     "data": {
      "text/plain": [
       "['71% off',\n",
       " '65% off',\n",
       " '58% off',\n",
       " '68% off',\n",
       " '72% off',\n",
       " '81% off',\n",
       " '68% off',\n",
       " '81% off',\n",
       " '62% off',\n",
       " '84% off',\n",
       " '81% off',\n",
       " '78% off',\n",
       " '73% off',\n",
       " '68% off',\n",
       " '78% off',\n",
       " '61% off',\n",
       " '81% off',\n",
       " '84% off',\n",
       " '58% off',\n",
       " '80% off',\n",
       " '35% off',\n",
       " '55% off',\n",
       " '72% off',\n",
       " '80% off',\n",
       " '84% off',\n",
       " '84% off',\n",
       " '53% off',\n",
       " '67% off',\n",
       " '73% off',\n",
       " '76% off',\n",
       " '71% off',\n",
       " '68% off',\n",
       " '70% off',\n",
       " '76% off',\n",
       " '70% off',\n",
       " '68% off',\n",
       " '64% off',\n",
       " '84% off',\n",
       " '84% off',\n",
       " '57% off',\n",
       " '78% off',\n",
       " '78% off',\n",
       " '76% off',\n",
       " '71% off',\n",
       " '84% off',\n",
       " '68% off',\n",
       " '52% off',\n",
       " '81% off',\n",
       " '71% off',\n",
       " '64% off',\n",
       " '72% off',\n",
       " '76% off',\n",
       " '76% off',\n",
       " '65% off',\n",
       " '84% off',\n",
       " '80% off',\n",
       " '85% off',\n",
       " '60% off',\n",
       " '76% off',\n",
       " '70% off',\n",
       " '76% off',\n",
       " '68% off',\n",
       " '67% off',\n",
       " '76% off',\n",
       " '68% off',\n",
       " '71% off',\n",
       " '73% off',\n",
       " '68% off',\n",
       " '69% off',\n",
       " '88% off',\n",
       " '77% off',\n",
       " '74% off',\n",
       " '80% off',\n",
       " '84% off',\n",
       " '65% off',\n",
       " '43% off',\n",
       " '88% off',\n",
       " '76% off',\n",
       " '80% off',\n",
       " '64% off',\n",
       " '71% off',\n",
       " '65% off',\n",
       " '58% off',\n",
       " '81% off',\n",
       " '72% off',\n",
       " '62% off',\n",
       " '84% off',\n",
       " '78% off',\n",
       " '81% off',\n",
       " '81% off',\n",
       " '68% off',\n",
       " '61% off',\n",
       " '73% off',\n",
       " '78% off',\n",
       " '84% off',\n",
       " '80% off',\n",
       " '58% off',\n",
       " '81% off',\n",
       " '35% off',\n",
       " '80% off',\n",
       " '55% off',\n",
       " '50% off',\n",
       " '72% off',\n",
       " '67% off',\n",
       " '84% off',\n",
       " '84% off',\n",
       " '73% off',\n",
       " '54% off',\n",
       " '76% off',\n",
       " '53% off',\n",
       " '71% off',\n",
       " '68% off',\n",
       " '70% off',\n",
       " '76% off',\n",
       " '70% off',\n",
       " '68% off',\n",
       " '64% off',\n",
       " '84% off',\n",
       " '84% off',\n",
       " '57% off']"
      ]
     },
     "execution_count": 181,
     "metadata": {},
     "output_type": "execute_result"
    }
   ],
   "source": [
    "Offer"
   ]
  },
  {
   "cell_type": "code",
   "execution_count": 370,
   "id": "7dc0d7b6",
   "metadata": {},
   "outputs": [],
   "source": [
    "O=[]\n",
    "\n",
    "for i in Offer[0:100]:\n",
    "    O.append(i)"
   ]
  },
  {
   "cell_type": "code",
   "execution_count": 371,
   "id": "2e1a62a9",
   "metadata": {},
   "outputs": [
    {
     "data": {
      "text/plain": [
       "100"
      ]
     },
     "execution_count": 371,
     "metadata": {},
     "output_type": "execute_result"
    }
   ],
   "source": [
    "len(O)"
   ]
  },
  {
   "cell_type": "code",
   "execution_count": 372,
   "id": "66ce437c",
   "metadata": {},
   "outputs": [
    {
     "data": {
      "text/plain": [
       "['71% off',\n",
       " '65% off',\n",
       " '58% off',\n",
       " '68% off',\n",
       " '72% off',\n",
       " '81% off',\n",
       " '68% off',\n",
       " '81% off',\n",
       " '62% off',\n",
       " '84% off',\n",
       " '81% off',\n",
       " '78% off',\n",
       " '73% off',\n",
       " '68% off',\n",
       " '78% off',\n",
       " '61% off',\n",
       " '81% off',\n",
       " '84% off',\n",
       " '58% off',\n",
       " '80% off',\n",
       " '35% off',\n",
       " '55% off',\n",
       " '72% off',\n",
       " '80% off',\n",
       " '84% off',\n",
       " '84% off',\n",
       " '53% off',\n",
       " '67% off',\n",
       " '73% off',\n",
       " '76% off',\n",
       " '71% off',\n",
       " '68% off',\n",
       " '70% off',\n",
       " '76% off',\n",
       " '70% off',\n",
       " '68% off',\n",
       " '64% off',\n",
       " '84% off',\n",
       " '84% off',\n",
       " '57% off',\n",
       " '78% off',\n",
       " '78% off',\n",
       " '76% off',\n",
       " '71% off',\n",
       " '84% off',\n",
       " '68% off',\n",
       " '52% off',\n",
       " '81% off',\n",
       " '71% off',\n",
       " '64% off',\n",
       " '72% off',\n",
       " '76% off',\n",
       " '76% off',\n",
       " '65% off',\n",
       " '84% off',\n",
       " '80% off',\n",
       " '85% off',\n",
       " '60% off',\n",
       " '76% off',\n",
       " '70% off',\n",
       " '76% off',\n",
       " '68% off',\n",
       " '67% off',\n",
       " '76% off',\n",
       " '68% off',\n",
       " '71% off',\n",
       " '73% off',\n",
       " '68% off',\n",
       " '69% off',\n",
       " '88% off',\n",
       " '77% off',\n",
       " '74% off',\n",
       " '80% off',\n",
       " '84% off',\n",
       " '65% off',\n",
       " '43% off',\n",
       " '88% off',\n",
       " '76% off',\n",
       " '80% off',\n",
       " '64% off',\n",
       " '71% off',\n",
       " '65% off',\n",
       " '58% off',\n",
       " '81% off',\n",
       " '72% off',\n",
       " '62% off',\n",
       " '84% off',\n",
       " '78% off',\n",
       " '81% off',\n",
       " '81% off',\n",
       " '68% off',\n",
       " '61% off',\n",
       " '73% off',\n",
       " '78% off',\n",
       " '84% off',\n",
       " '80% off',\n",
       " '58% off',\n",
       " '81% off',\n",
       " '35% off',\n",
       " '80% off']"
      ]
     },
     "execution_count": 372,
     "metadata": {},
     "output_type": "execute_result"
    }
   ],
   "source": [
    "O"
   ]
  },
  {
   "cell_type": "code",
   "execution_count": 373,
   "id": "d1921091",
   "metadata": {},
   "outputs": [
    {
     "data": {
      "text/html": [
       "<div>\n",
       "<style scoped>\n",
       "    .dataframe tbody tr th:only-of-type {\n",
       "        vertical-align: middle;\n",
       "    }\n",
       "\n",
       "    .dataframe tbody tr th {\n",
       "        vertical-align: top;\n",
       "    }\n",
       "\n",
       "    .dataframe thead th {\n",
       "        text-align: right;\n",
       "    }\n",
       "</style>\n",
       "<table border=\"1\" class=\"dataframe\">\n",
       "  <thead>\n",
       "    <tr style=\"text-align: right;\">\n",
       "      <th></th>\n",
       "      <th>Shoe_Name</th>\n",
       "      <th>Short_Description</th>\n",
       "      <th>Price</th>\n",
       "      <th>Offer</th>\n",
       "    </tr>\n",
       "  </thead>\n",
       "  <tbody>\n",
       "    <tr>\n",
       "      <th>0</th>\n",
       "      <td>WHITE WALKERS</td>\n",
       "      <td>Premium White Casual Shoes Sneakers For Men Sn...</td>\n",
       "      <td>₹319</td>\n",
       "      <td>71% off</td>\n",
       "    </tr>\n",
       "    <tr>\n",
       "      <th>1</th>\n",
       "      <td>RED TAPE</td>\n",
       "      <td>Modern Trendy Sneakers Shoes Sneakers For Men</td>\n",
       "      <td>₹319</td>\n",
       "      <td>65% off</td>\n",
       "    </tr>\n",
       "    <tr>\n",
       "      <th>2</th>\n",
       "      <td>K- FOOTLANCE</td>\n",
       "      <td>Lightweight Pack Of 1 Trendy Sneakers Sneakers...</td>\n",
       "      <td>₹143</td>\n",
       "      <td>58% off</td>\n",
       "    </tr>\n",
       "    <tr>\n",
       "      <th>3</th>\n",
       "      <td>asian</td>\n",
       "      <td>Latest Collection-1215 Stylish Casual Sports S...</td>\n",
       "      <td>₹143</td>\n",
       "      <td>68% off</td>\n",
       "    </tr>\n",
       "    <tr>\n",
       "      <th>4</th>\n",
       "      <td>BRUTON</td>\n",
       "      <td>Sneakers For Men</td>\n",
       "      <td>₹239</td>\n",
       "      <td>72% off</td>\n",
       "    </tr>\n",
       "    <tr>\n",
       "      <th>...</th>\n",
       "      <td>...</td>\n",
       "      <td>...</td>\n",
       "      <td>...</td>\n",
       "      <td>...</td>\n",
       "    </tr>\n",
       "    <tr>\n",
       "      <th>95</th>\n",
       "      <td>asics</td>\n",
       "      <td>Sneakers For Men</td>\n",
       "      <td>₹379</td>\n",
       "      <td>80% off</td>\n",
       "    </tr>\n",
       "    <tr>\n",
       "      <th>96</th>\n",
       "      <td>aadi</td>\n",
       "      <td>Exclusive Affordable Collection of Trendy &amp; St...</td>\n",
       "      <td>₹399</td>\n",
       "      <td>58% off</td>\n",
       "    </tr>\n",
       "    <tr>\n",
       "      <th>97</th>\n",
       "      <td>Airland</td>\n",
       "      <td>Casual Sneakers Canvas Shoes For Men Sneakers ...</td>\n",
       "      <td>₹239</td>\n",
       "      <td>81% off</td>\n",
       "    </tr>\n",
       "    <tr>\n",
       "      <th>98</th>\n",
       "      <td>RapidBox</td>\n",
       "      <td>Sneakers For Men</td>\n",
       "      <td>₹239</td>\n",
       "      <td>35% off</td>\n",
       "    </tr>\n",
       "    <tr>\n",
       "      <th>99</th>\n",
       "      <td>asics</td>\n",
       "      <td>Lightweight Comfortable Casual wear Lace-Up Sh...</td>\n",
       "      <td>₹1,049</td>\n",
       "      <td>80% off</td>\n",
       "    </tr>\n",
       "  </tbody>\n",
       "</table>\n",
       "<p>100 rows × 4 columns</p>\n",
       "</div>"
      ],
      "text/plain": [
       "        Shoe_Name                                  Short_Description   Price  \\\n",
       "0   WHITE WALKERS  Premium White Casual Shoes Sneakers For Men Sn...    ₹319   \n",
       "1        RED TAPE      Modern Trendy Sneakers Shoes Sneakers For Men    ₹319   \n",
       "2    K- FOOTLANCE  Lightweight Pack Of 1 Trendy Sneakers Sneakers...    ₹143   \n",
       "3           asian  Latest Collection-1215 Stylish Casual Sports S...    ₹143   \n",
       "4          BRUTON                                   Sneakers For Men    ₹239   \n",
       "..            ...                                                ...     ...   \n",
       "95          asics                                   Sneakers For Men    ₹379   \n",
       "96           aadi  Exclusive Affordable Collection of Trendy & St...    ₹399   \n",
       "97        Airland  Casual Sneakers Canvas Shoes For Men Sneakers ...    ₹239   \n",
       "98       RapidBox                                   Sneakers For Men    ₹239   \n",
       "99          asics  Lightweight Comfortable Casual wear Lace-Up Sh...  ₹1,049   \n",
       "\n",
       "      Offer  \n",
       "0   71% off  \n",
       "1   65% off  \n",
       "2   58% off  \n",
       "3   68% off  \n",
       "4   72% off  \n",
       "..      ...  \n",
       "95  80% off  \n",
       "96  58% off  \n",
       "97  81% off  \n",
       "98  35% off  \n",
       "99  80% off  \n",
       "\n",
       "[100 rows x 4 columns]"
      ]
     },
     "execution_count": 373,
     "metadata": {},
     "output_type": "execute_result"
    }
   ],
   "source": [
    "df=pd.DataFrame({'Shoe_Name':Product_NAME,'Short_Description':D,'Price':R,'Offer':O})\n",
    "df"
   ]
  },
  {
   "cell_type": "code",
   "execution_count": null,
   "id": "fb7ad8c9",
   "metadata": {},
   "outputs": [],
   "source": []
  },
  {
   "cell_type": "markdown",
   "id": "ea0c6df1",
   "metadata": {},
   "source": [
    "7) Scraping Shoe details in myntra webpage by applying some filters."
   ]
  },
  {
   "cell_type": "code",
   "execution_count": 184,
   "id": "d800b10e",
   "metadata": {},
   "outputs": [],
   "source": [
    "driver=webdriver.Chrome(r\"C:\\Users\\Hello world\\Downloads\\chromedriver_win32\\chromedriver.exe\")"
   ]
  },
  {
   "cell_type": "code",
   "execution_count": 185,
   "id": "40694a37",
   "metadata": {},
   "outputs": [],
   "source": [
    "driver.get(\"https://www.myntra.com/shoes\")"
   ]
  },
  {
   "cell_type": "markdown",
   "id": "e7410347",
   "metadata": {},
   "source": [
    "We need to scrap, brand name, short shoe description, Price of the shoe."
   ]
  },
  {
   "cell_type": "code",
   "execution_count": 188,
   "id": "076b2cbf",
   "metadata": {},
   "outputs": [],
   "source": [
    "Shoe_name=[]\n",
    "\n",
    "for page in range(0,2):\n",
    "    S_tag=driver.find_elements(By.XPATH,'//h3[@class=\"product-brand\"]')\n",
    "    for i in S_tag:\n",
    "        Shoe_name.append(i.text)\n",
    "    nxt_button=driver.find_element(By.XPATH,'//li[@class=\"pagination-next\"]')\n",
    "    nxt_button.click()\n",
    "    time.sleep(2)"
   ]
  },
  {
   "cell_type": "code",
   "execution_count": 189,
   "id": "7bed91b4",
   "metadata": {},
   "outputs": [
    {
     "data": {
      "text/plain": [
       "100"
      ]
     },
     "execution_count": 189,
     "metadata": {},
     "output_type": "execute_result"
    }
   ],
   "source": [
    "len(Shoe_name)"
   ]
  },
  {
   "cell_type": "code",
   "execution_count": 190,
   "id": "568ac16a",
   "metadata": {},
   "outputs": [],
   "source": [
    "Short_description=[]\n",
    "\n",
    "for page in range(0,2):\n",
    "    d_tag=driver.find_elements(By.XPATH,'//h4[@class=\"product-product\"]')\n",
    "    for i in d_tag:\n",
    "        Shoe_description.append(i.text)\n",
    "    nxt_button=driver.find_element(By.XPATH,'//li[@class=\"pagination-next\"]')\n",
    "    nxt_button.click()\n",
    "    time.sleep(2)"
   ]
  },
  {
   "cell_type": "code",
   "execution_count": 191,
   "id": "e74bb0d3",
   "metadata": {},
   "outputs": [],
   "source": [
    "Amount=[]\n",
    "\n",
    "for page in range(0,2):\n",
    "    a_tag=driver.find_elements(By.XPATH,'//div[@class=\"product-price\"]')\n",
    "    for i in a_tag:\n",
    "        Amount.append(i.text)\n",
    "    nxt_button=driver.find_element(By.XPATH,'//li[@class=\"pagination-next\"]')\n",
    "    nxt_button.click()\n",
    "    time.sleep(2)"
   ]
  },
  {
   "cell_type": "code",
   "execution_count": 192,
   "id": "fac103cb",
   "metadata": {},
   "outputs": [
    {
     "data": {
      "text/plain": [
       "100"
      ]
     },
     "execution_count": 192,
     "metadata": {},
     "output_type": "execute_result"
    }
   ],
   "source": [
    "len(Amount)"
   ]
  },
  {
   "cell_type": "code",
   "execution_count": 194,
   "id": "a40d1ffd",
   "metadata": {},
   "outputs": [
    {
     "data": {
      "text/html": [
       "<div>\n",
       "<style scoped>\n",
       "    .dataframe tbody tr th:only-of-type {\n",
       "        vertical-align: middle;\n",
       "    }\n",
       "\n",
       "    .dataframe tbody tr th {\n",
       "        vertical-align: top;\n",
       "    }\n",
       "\n",
       "    .dataframe thead th {\n",
       "        text-align: right;\n",
       "    }\n",
       "</style>\n",
       "<table border=\"1\" class=\"dataframe\">\n",
       "  <thead>\n",
       "    <tr style=\"text-align: right;\">\n",
       "      <th></th>\n",
       "      <th>Shoe_Name</th>\n",
       "      <th>Description</th>\n",
       "      <th>Price</th>\n",
       "    </tr>\n",
       "  </thead>\n",
       "  <tbody>\n",
       "    <tr>\n",
       "      <th>0</th>\n",
       "      <td>Skechers</td>\n",
       "      <td>Men Go Walk Walking Shoes</td>\n",
       "      <td>Rs. 7499</td>\n",
       "    </tr>\n",
       "    <tr>\n",
       "      <th>1</th>\n",
       "      <td>Skechers</td>\n",
       "      <td>Men GO WALK - TERRA Shoes</td>\n",
       "      <td>Rs. 8499Rs. 9999(15% OFF)</td>\n",
       "    </tr>\n",
       "    <tr>\n",
       "      <th>2</th>\n",
       "      <td>ADIDAS Originals</td>\n",
       "      <td>Men ZX 22 BOOST Sneakers</td>\n",
       "      <td>Rs. 8399Rs. 11999(30% OFF)</td>\n",
       "    </tr>\n",
       "    <tr>\n",
       "      <th>3</th>\n",
       "      <td>Skechers</td>\n",
       "      <td>Men ENIGMA Running Shoes</td>\n",
       "      <td>Rs. 6649Rs. 9499(30% OFF)</td>\n",
       "    </tr>\n",
       "    <tr>\n",
       "      <th>4</th>\n",
       "      <td>Tommy Hilfiger</td>\n",
       "      <td>Men Solid Sneakers</td>\n",
       "      <td>Rs. 6639Rs. 8299(20% OFF)</td>\n",
       "    </tr>\n",
       "    <tr>\n",
       "      <th>...</th>\n",
       "      <td>...</td>\n",
       "      <td>...</td>\n",
       "      <td>...</td>\n",
       "    </tr>\n",
       "    <tr>\n",
       "      <th>95</th>\n",
       "      <td>Puma</td>\n",
       "      <td>Unisex KING Pro 21 Football</td>\n",
       "      <td>Rs. 6999Rs. 9999(30% OFF)</td>\n",
       "    </tr>\n",
       "    <tr>\n",
       "      <th>96</th>\n",
       "      <td>Puma</td>\n",
       "      <td>Women UltraRide Running Shoes</td>\n",
       "      <td>Rs. 7199Rs. 8999(20% OFF)</td>\n",
       "    </tr>\n",
       "    <tr>\n",
       "      <th>97</th>\n",
       "      <td>ADIDAS</td>\n",
       "      <td>Women Runfalcon 2.0 Running</td>\n",
       "      <td>Rs. 6599</td>\n",
       "    </tr>\n",
       "    <tr>\n",
       "      <th>98</th>\n",
       "      <td>Hush Puppies</td>\n",
       "      <td>Men Colourblocked Leather Derbys</td>\n",
       "      <td>Rs. 6999</td>\n",
       "    </tr>\n",
       "    <tr>\n",
       "      <th>99</th>\n",
       "      <td>ADIDAS Originals</td>\n",
       "      <td>Women Forum Low Sneakers</td>\n",
       "      <td>Rs. 9999</td>\n",
       "    </tr>\n",
       "  </tbody>\n",
       "</table>\n",
       "<p>100 rows × 3 columns</p>\n",
       "</div>"
      ],
      "text/plain": [
       "           Shoe_Name                       Description  \\\n",
       "0           Skechers         Men Go Walk Walking Shoes   \n",
       "1           Skechers         Men GO WALK - TERRA Shoes   \n",
       "2   ADIDAS Originals          Men ZX 22 BOOST Sneakers   \n",
       "3           Skechers          Men ENIGMA Running Shoes   \n",
       "4     Tommy Hilfiger                Men Solid Sneakers   \n",
       "..               ...                               ...   \n",
       "95              Puma       Unisex KING Pro 21 Football   \n",
       "96              Puma     Women UltraRide Running Shoes   \n",
       "97            ADIDAS       Women Runfalcon 2.0 Running   \n",
       "98      Hush Puppies  Men Colourblocked Leather Derbys   \n",
       "99  ADIDAS Originals          Women Forum Low Sneakers   \n",
       "\n",
       "                         Price  \n",
       "0                     Rs. 7499  \n",
       "1    Rs. 8499Rs. 9999(15% OFF)  \n",
       "2   Rs. 8399Rs. 11999(30% OFF)  \n",
       "3    Rs. 6649Rs. 9499(30% OFF)  \n",
       "4    Rs. 6639Rs. 8299(20% OFF)  \n",
       "..                         ...  \n",
       "95   Rs. 6999Rs. 9999(30% OFF)  \n",
       "96   Rs. 7199Rs. 8999(20% OFF)  \n",
       "97                    Rs. 6599  \n",
       "98                    Rs. 6999  \n",
       "99                    Rs. 9999  \n",
       "\n",
       "[100 rows x 3 columns]"
      ]
     },
     "execution_count": 194,
     "metadata": {},
     "output_type": "execute_result"
    }
   ],
   "source": [
    "df=pd.DataFrame({'Shoe_Name':Shoe_name,'Description':Shoe_description,'Price':Amount})\n",
    "df"
   ]
  },
  {
   "cell_type": "code",
   "execution_count": null,
   "id": "3c7fbb28",
   "metadata": {},
   "outputs": [],
   "source": []
  },
  {
   "cell_type": "code",
   "execution_count": null,
   "id": "cb5c7f4b",
   "metadata": {},
   "outputs": [],
   "source": []
  },
  {
   "cell_type": "markdown",
   "id": "05c18128",
   "metadata": {},
   "source": [
    "8) Scraping the details of Laptop from amazon webpage by applying filters."
   ]
  },
  {
   "cell_type": "code",
   "execution_count": 217,
   "id": "3387b5ca",
   "metadata": {},
   "outputs": [],
   "source": [
    "driver=webdriver.Chrome(r\"C:\\Users\\Hello world\\Downloads\\chromedriver_win32\\chromedriver.exe\")"
   ]
  },
  {
   "cell_type": "code",
   "execution_count": 218,
   "id": "c8449cb1",
   "metadata": {},
   "outputs": [],
   "source": [
    "driver.get(\"https://www.amazon.in/\")"
   ]
  },
  {
   "cell_type": "code",
   "execution_count": 32,
   "id": "c1b11bf6",
   "metadata": {},
   "outputs": [],
   "source": [
    "Product=driver.find_element(By.XPATH,'/html/body/div[1]/header/div/div[1]/div[2]/div/form/div[2]/div[1]/input')\n",
    "Product.send_keys('Laptop')"
   ]
  },
  {
   "cell_type": "code",
   "execution_count": 33,
   "id": "030bcf71",
   "metadata": {},
   "outputs": [],
   "source": [
    "Search=driver.find_element(By.XPATH,'/html/body/div[1]/header/div/div[1]/div[2]/div/form/div[3]/div/span/input')\n",
    "Search.click()"
   ]
  },
  {
   "cell_type": "code",
   "execution_count": 34,
   "id": "d3bc8ec8",
   "metadata": {},
   "outputs": [],
   "source": [
    "# we need to scrap\n",
    "\n",
    "Titles=[]\n",
    "Ratings=[]\n",
    "Price=[]"
   ]
  },
  {
   "cell_type": "code",
   "execution_count": 35,
   "id": "3d2669be",
   "metadata": {},
   "outputs": [],
   "source": [
    "# scraping Product Title from the website\n",
    "title_tags=driver.find_elements(By.XPATH,'//h2[@class=\"a-size-mini a-spacing-none a-color-base s-line-clamp-2\"]')\n",
    "for i in title_tags[0:10]:\n",
    "    title=i.text\n",
    "    Titles.append(title)\n",
    "    \n",
    "# scraping Ratings from the website\n",
    "rating_tags=driver.find_elements(By.XPATH,'//span[@class=\"a-size-base s-underline-text\"]')\n",
    "for i in rating_tags[0:10]:\n",
    "    rat=i.text\n",
    "    Ratings.append(rat)\n",
    "    \n",
    "# scraping Price of the laptop from the website\n",
    "price_tags=driver.find_elements(By.XPATH,'//span[@class=\"a-price-whole\"]')\n",
    "for i in price_tags[0:10]:\n",
    "    amount=i.text\n",
    "    Price.append(amount)"
   ]
  },
  {
   "cell_type": "code",
   "execution_count": 36,
   "id": "698a9ff8",
   "metadata": {},
   "outputs": [
    {
     "name": "stdout",
     "output_type": "stream",
     "text": [
      "6 7 5\n"
     ]
    }
   ],
   "source": [
    "print(len('Titles'),len('Ratings'),len('Price'))"
   ]
  },
  {
   "cell_type": "code",
   "execution_count": 37,
   "id": "ccda1016",
   "metadata": {},
   "outputs": [
    {
     "data": {
      "text/html": [
       "<div>\n",
       "<style scoped>\n",
       "    .dataframe tbody tr th:only-of-type {\n",
       "        vertical-align: middle;\n",
       "    }\n",
       "\n",
       "    .dataframe tbody tr th {\n",
       "        vertical-align: top;\n",
       "    }\n",
       "\n",
       "    .dataframe thead th {\n",
       "        text-align: right;\n",
       "    }\n",
       "</style>\n",
       "<table border=\"1\" class=\"dataframe\">\n",
       "  <thead>\n",
       "    <tr style=\"text-align: right;\">\n",
       "      <th></th>\n",
       "      <th>Product_Title</th>\n",
       "      <th>Product_rating</th>\n",
       "      <th>Product_price</th>\n",
       "    </tr>\n",
       "  </thead>\n",
       "  <tbody>\n",
       "    <tr>\n",
       "      <th>0</th>\n",
       "      <td>ASUS Zenbook 13 OLED, 13.3-inch (33.78 cms) FH...</td>\n",
       "      <td>3</td>\n",
       "      <td>74,990</td>\n",
       "    </tr>\n",
       "    <tr>\n",
       "      <th>1</th>\n",
       "      <td>Lenovo IdeaPad Slim 5 Intel Core i7 12th Gen 1...</td>\n",
       "      <td>12</td>\n",
       "      <td>80,000</td>\n",
       "    </tr>\n",
       "    <tr>\n",
       "      <th>2</th>\n",
       "      <td>Lenovo ThinkBook 15 Intel 11th Gen Core i7 15....</td>\n",
       "      <td>62</td>\n",
       "      <td>77,990</td>\n",
       "    </tr>\n",
       "    <tr>\n",
       "      <th>3</th>\n",
       "      <td>HP Pavilion Plus, 12th Gen Intel Core i7 16GB ...</td>\n",
       "      <td>38</td>\n",
       "      <td>86,990</td>\n",
       "    </tr>\n",
       "    <tr>\n",
       "      <th>4</th>\n",
       "      <td>HP Pavilion x360 11th Gen Intel Core i7 14 inc...</td>\n",
       "      <td>4</td>\n",
       "      <td>80,990</td>\n",
       "    </tr>\n",
       "    <tr>\n",
       "      <th>5</th>\n",
       "      <td>Hp Pavilion X360 11Th Gen Intel Core I7 14 Inc...</td>\n",
       "      <td>26</td>\n",
       "      <td>82,490</td>\n",
       "    </tr>\n",
       "    <tr>\n",
       "      <th>6</th>\n",
       "      <td>ASUS Zenbook 13 OLED, 13.3-inch (33.78 cms) FH...</td>\n",
       "      <td>1</td>\n",
       "      <td>1,16,990</td>\n",
       "    </tr>\n",
       "    <tr>\n",
       "      <th>7</th>\n",
       "      <td>Lenovo Yoga 7i 11th Gen Intel Core i7-1165G7 1...</td>\n",
       "      <td>89</td>\n",
       "      <td>1,12,950</td>\n",
       "    </tr>\n",
       "    <tr>\n",
       "      <th>8</th>\n",
       "      <td>ASUS TUF Gaming F15 (2022), 15.6-inch (39.62 c...</td>\n",
       "      <td>32</td>\n",
       "      <td>1,98,990</td>\n",
       "    </tr>\n",
       "    <tr>\n",
       "      <th>9</th>\n",
       "      <td>DELL Alienware x14 Gaming Laptop, Intel i7-127...</td>\n",
       "      <td>6</td>\n",
       "      <td>99,990</td>\n",
       "    </tr>\n",
       "  </tbody>\n",
       "</table>\n",
       "</div>"
      ],
      "text/plain": [
       "                                       Product_Title Product_rating  \\\n",
       "0  ASUS Zenbook 13 OLED, 13.3-inch (33.78 cms) FH...              3   \n",
       "1  Lenovo IdeaPad Slim 5 Intel Core i7 12th Gen 1...             12   \n",
       "2  Lenovo ThinkBook 15 Intel 11th Gen Core i7 15....             62   \n",
       "3  HP Pavilion Plus, 12th Gen Intel Core i7 16GB ...             38   \n",
       "4  HP Pavilion x360 11th Gen Intel Core i7 14 inc...              4   \n",
       "5  Hp Pavilion X360 11Th Gen Intel Core I7 14 Inc...             26   \n",
       "6  ASUS Zenbook 13 OLED, 13.3-inch (33.78 cms) FH...              1   \n",
       "7  Lenovo Yoga 7i 11th Gen Intel Core i7-1165G7 1...             89   \n",
       "8  ASUS TUF Gaming F15 (2022), 15.6-inch (39.62 c...             32   \n",
       "9  DELL Alienware x14 Gaming Laptop, Intel i7-127...              6   \n",
       "\n",
       "  Product_price  \n",
       "0        74,990  \n",
       "1        80,000  \n",
       "2        77,990  \n",
       "3        86,990  \n",
       "4        80,990  \n",
       "5        82,490  \n",
       "6      1,16,990  \n",
       "7      1,12,950  \n",
       "8      1,98,990  \n",
       "9        99,990  "
      ]
     },
     "execution_count": 37,
     "metadata": {},
     "output_type": "execute_result"
    }
   ],
   "source": [
    "df=pd.DataFrame({'Product_Title':Titles,'Product_rating':Ratings,'Product_price':Price})\n",
    "df"
   ]
  },
  {
   "cell_type": "code",
   "execution_count": null,
   "id": "2cc33307",
   "metadata": {},
   "outputs": [],
   "source": []
  },
  {
   "cell_type": "code",
   "execution_count": null,
   "id": "6aadd2ee",
   "metadata": {},
   "outputs": [],
   "source": []
  },
  {
   "cell_type": "code",
   "execution_count": null,
   "id": "f43571f7",
   "metadata": {},
   "outputs": [],
   "source": []
  },
  {
   "cell_type": "markdown",
   "id": "71658cf9",
   "metadata": {},
   "source": [
    "10) We need to scrape salary data for Data Scientist designation."
   ]
  },
  {
   "cell_type": "markdown",
   "id": "09f439b9",
   "metadata": {},
   "source": [
    "Note: Got Error for scraping company name, even after getting link from SME also, it will not scrap any data for company name. So that i scrap remaining attributes and then make a dataframe with it. Because today is my deadline date to submit my assignment."
   ]
  },
  {
   "cell_type": "code",
   "execution_count": 5,
   "id": "a51fdc17",
   "metadata": {},
   "outputs": [],
   "source": [
    "driver=webdriver.Chrome(r\"C:\\Users\\Hello world\\Downloads\\chromedriver_win32\\chromedriver.exe\")"
   ]
  },
  {
   "cell_type": "code",
   "execution_count": 6,
   "id": "1e7771df",
   "metadata": {},
   "outputs": [],
   "source": [
    "driver.get(\"https://www.ambitionbox.com/\")"
   ]
  },
  {
   "cell_type": "code",
   "execution_count": 8,
   "id": "89ee67a2",
   "metadata": {},
   "outputs": [],
   "source": [
    "designation=driver.find_element(By.XPATH,'/html/body/div/div/div/main/section[1]/div[2]/div[1]/span/input')\n",
    "designation.send_keys('Data Scientist')"
   ]
  },
  {
   "cell_type": "code",
   "execution_count": null,
   "id": "35c3fd45",
   "metadata": {},
   "outputs": [],
   "source": []
  },
  {
   "cell_type": "markdown",
   "id": "c5ce8ccd",
   "metadata": {},
   "source": [
    "We need to scrap Company_name, No of salaries, Avg salary, Min salary, Max salary."
   ]
  },
  {
   "cell_type": "code",
   "execution_count": 19,
   "id": "70ac41a6",
   "metadata": {},
   "outputs": [],
   "source": [
    "C_NAME1=[]"
   ]
  },
  {
   "cell_type": "code",
   "execution_count": 20,
   "id": "f77d6fb7",
   "metadata": {},
   "outputs": [],
   "source": [
    "# scraping company name from the website\n",
    "n_tag1=driver.find_elements(By.XPATH,'//div[@class=\"name\"]/a')\n",
    "for i in n_tag1[0:10]:\n",
    "    name5=i.text\n",
    "    C_NAME1.append(name5)"
   ]
  },
  {
   "cell_type": "code",
   "execution_count": 21,
   "id": "dc9a2bb2",
   "metadata": {},
   "outputs": [
    {
     "data": {
      "text/plain": [
       "0"
      ]
     },
     "execution_count": 21,
     "metadata": {},
     "output_type": "execute_result"
    }
   ],
   "source": [
    "len(C_NAME1)"
   ]
  },
  {
   "cell_type": "code",
   "execution_count": 22,
   "id": "d879047c",
   "metadata": {},
   "outputs": [
    {
     "data": {
      "text/plain": [
       "[]"
      ]
     },
     "execution_count": 22,
     "metadata": {},
     "output_type": "execute_result"
    }
   ],
   "source": [
    "C_NAME1"
   ]
  },
  {
   "cell_type": "code",
   "execution_count": null,
   "id": "b0109cc6",
   "metadata": {},
   "outputs": [],
   "source": []
  },
  {
   "cell_type": "code",
   "execution_count": null,
   "id": "1d2541d2",
   "metadata": {},
   "outputs": [],
   "source": []
  },
  {
   "cell_type": "code",
   "execution_count": 16,
   "id": "6b419d47",
   "metadata": {},
   "outputs": [],
   "source": [
    "No_of_Sal=[]\n",
    "\n",
    "z_tag1=driver.find_elements(By.XPATH,'//span[@class=\"datapoints\"]')\n",
    "for i in z_tag1[0:10]:\n",
    "    name=i.text\n",
    "    No_of_Sal.append(name)"
   ]
  },
  {
   "cell_type": "code",
   "execution_count": 17,
   "id": "86111762",
   "metadata": {},
   "outputs": [
    {
     "data": {
      "text/plain": [
       "10"
      ]
     },
     "execution_count": 17,
     "metadata": {},
     "output_type": "execute_result"
    }
   ],
   "source": [
    "len(No_of_Sal)"
   ]
  },
  {
   "cell_type": "code",
   "execution_count": 18,
   "id": "2969ecf1",
   "metadata": {},
   "outputs": [
    {
     "data": {
      "text/plain": [
       "['(based on 24 salaries)',\n",
       " '(based on 59 salaries)',\n",
       " '(based on 49 salaries)',\n",
       " '(based on 35 salaries)',\n",
       " '(based on 118 salaries)',\n",
       " '(based on 10 salaries)',\n",
       " '(based on 70 salaries)',\n",
       " '(based on 11 salaries)',\n",
       " '(based on 10 salaries)',\n",
       " '(based on 14 salaries)']"
      ]
     },
     "execution_count": 18,
     "metadata": {},
     "output_type": "execute_result"
    }
   ],
   "source": [
    "No_of_Sal"
   ]
  },
  {
   "cell_type": "code",
   "execution_count": 19,
   "id": "06d875fe",
   "metadata": {},
   "outputs": [],
   "source": [
    "Avg_Sal=[]\n",
    "\n",
    "w_tag1=driver.find_elements(By.XPATH,'//p[@class=\"averageCtc\"]')\n",
    "for i in w_tag1[0:10]:\n",
    "    name=i.text\n",
    "    Avg_Sal.append(name)"
   ]
  },
  {
   "cell_type": "code",
   "execution_count": 20,
   "id": "0999afd3",
   "metadata": {},
   "outputs": [
    {
     "data": {
      "text/plain": [
       "10"
      ]
     },
     "execution_count": 20,
     "metadata": {},
     "output_type": "execute_result"
    }
   ],
   "source": [
    "len(Avg_Sal)"
   ]
  },
  {
   "cell_type": "code",
   "execution_count": 21,
   "id": "a5ec0db3",
   "metadata": {},
   "outputs": [
    {
     "data": {
      "text/plain": [
       "['₹ 32.2L',\n",
       " '₹ 19.8L',\n",
       " '₹ 16.4L',\n",
       " '₹ 15.9L',\n",
       " '₹ 15.5L',\n",
       " '₹ 14.7L',\n",
       " '₹ 14.6L',\n",
       " '₹ 14.5L',\n",
       " '₹ 14.0L',\n",
       " '₹ 13.9L']"
      ]
     },
     "execution_count": 21,
     "metadata": {},
     "output_type": "execute_result"
    }
   ],
   "source": [
    "Avg_Sal"
   ]
  },
  {
   "cell_type": "code",
   "execution_count": 9,
   "id": "f2f53b83",
   "metadata": {},
   "outputs": [],
   "source": [
    "Min_Sal=[]\n",
    "\n",
    "m_tag1=driver.find_elements(By.XPATH,'//div[@class=\"salary-values\"]/div[1]')\n",
    "for i in m_tag1[0:10]:\n",
    "    name=i.text\n",
    "    Min_Sal.append(name)"
   ]
  },
  {
   "cell_type": "code",
   "execution_count": 10,
   "id": "6affe7a4",
   "metadata": {},
   "outputs": [
    {
     "data": {
      "text/plain": [
       "10"
      ]
     },
     "execution_count": 10,
     "metadata": {},
     "output_type": "execute_result"
    }
   ],
   "source": [
    "len(Min_Sal)"
   ]
  },
  {
   "cell_type": "code",
   "execution_count": 11,
   "id": "67a24aff",
   "metadata": {},
   "outputs": [
    {
     "data": {
      "text/plain": [
       "['₹ 25.0L',\n",
       " '₹ 15.0L',\n",
       " '₹ 11.0L',\n",
       " '₹ 11.0L',\n",
       " '₹ 9.0L',\n",
       " '₹ 12.7L',\n",
       " '₹ 9.0L',\n",
       " '₹ 11.0L',\n",
       " '₹ 12.0L',\n",
       " '₹ 8.8L']"
      ]
     },
     "execution_count": 11,
     "metadata": {},
     "output_type": "execute_result"
    }
   ],
   "source": [
    "Min_Sal"
   ]
  },
  {
   "cell_type": "code",
   "execution_count": 12,
   "id": "c81ef751",
   "metadata": {},
   "outputs": [],
   "source": [
    "Max_Sal=[]\n",
    "\n",
    "max_tag1=driver.find_elements(By.XPATH,'//div[@class=\"salary-values\"]/div[2]')\n",
    "for i in max_tag1[0:10]:\n",
    "    name=i.text\n",
    "    Max_Sal.append(name)"
   ]
  },
  {
   "cell_type": "code",
   "execution_count": 13,
   "id": "bd7c0e00",
   "metadata": {},
   "outputs": [
    {
     "data": {
      "text/plain": [
       "10"
      ]
     },
     "execution_count": 13,
     "metadata": {},
     "output_type": "execute_result"
    }
   ],
   "source": [
    "len(Max_Sal)"
   ]
  },
  {
   "cell_type": "code",
   "execution_count": 14,
   "id": "a3096557",
   "metadata": {},
   "outputs": [
    {
     "data": {
      "text/plain": [
       "['₹ 45.0L',\n",
       " '₹ 26.0L',\n",
       " '₹ 22.6L',\n",
       " '₹ 22.0L',\n",
       " '₹ 23.0L',\n",
       " '₹ 19.7L',\n",
       " '₹ 20.0L',\n",
       " '₹ 20.0L',\n",
       " '₹ 18.0L',\n",
       " '₹ 17.5L']"
      ]
     },
     "execution_count": 14,
     "metadata": {},
     "output_type": "execute_result"
    }
   ],
   "source": [
    "Max_Sal"
   ]
  },
  {
   "cell_type": "code",
   "execution_count": 22,
   "id": "4abb91a7",
   "metadata": {},
   "outputs": [
    {
     "data": {
      "text/html": [
       "<div>\n",
       "<style scoped>\n",
       "    .dataframe tbody tr th:only-of-type {\n",
       "        vertical-align: middle;\n",
       "    }\n",
       "\n",
       "    .dataframe tbody tr th {\n",
       "        vertical-align: top;\n",
       "    }\n",
       "\n",
       "    .dataframe thead th {\n",
       "        text-align: right;\n",
       "    }\n",
       "</style>\n",
       "<table border=\"1\" class=\"dataframe\">\n",
       "  <thead>\n",
       "    <tr style=\"text-align: right;\">\n",
       "      <th></th>\n",
       "      <th>No_of_Salaries</th>\n",
       "      <th>Average_Salary</th>\n",
       "      <th>Minimum_Salary</th>\n",
       "      <th>Maximum_Salary</th>\n",
       "    </tr>\n",
       "  </thead>\n",
       "  <tbody>\n",
       "    <tr>\n",
       "      <th>0</th>\n",
       "      <td>(based on 24 salaries)</td>\n",
       "      <td>₹ 32.2L</td>\n",
       "      <td>₹ 25.0L</td>\n",
       "      <td>₹ 45.0L</td>\n",
       "    </tr>\n",
       "    <tr>\n",
       "      <th>1</th>\n",
       "      <td>(based on 59 salaries)</td>\n",
       "      <td>₹ 19.8L</td>\n",
       "      <td>₹ 15.0L</td>\n",
       "      <td>₹ 26.0L</td>\n",
       "    </tr>\n",
       "    <tr>\n",
       "      <th>2</th>\n",
       "      <td>(based on 49 salaries)</td>\n",
       "      <td>₹ 16.4L</td>\n",
       "      <td>₹ 11.0L</td>\n",
       "      <td>₹ 22.6L</td>\n",
       "    </tr>\n",
       "    <tr>\n",
       "      <th>3</th>\n",
       "      <td>(based on 35 salaries)</td>\n",
       "      <td>₹ 15.9L</td>\n",
       "      <td>₹ 11.0L</td>\n",
       "      <td>₹ 22.0L</td>\n",
       "    </tr>\n",
       "    <tr>\n",
       "      <th>4</th>\n",
       "      <td>(based on 118 salaries)</td>\n",
       "      <td>₹ 15.5L</td>\n",
       "      <td>₹ 9.0L</td>\n",
       "      <td>₹ 23.0L</td>\n",
       "    </tr>\n",
       "    <tr>\n",
       "      <th>5</th>\n",
       "      <td>(based on 10 salaries)</td>\n",
       "      <td>₹ 14.7L</td>\n",
       "      <td>₹ 12.7L</td>\n",
       "      <td>₹ 19.7L</td>\n",
       "    </tr>\n",
       "    <tr>\n",
       "      <th>6</th>\n",
       "      <td>(based on 70 salaries)</td>\n",
       "      <td>₹ 14.6L</td>\n",
       "      <td>₹ 9.0L</td>\n",
       "      <td>₹ 20.0L</td>\n",
       "    </tr>\n",
       "    <tr>\n",
       "      <th>7</th>\n",
       "      <td>(based on 11 salaries)</td>\n",
       "      <td>₹ 14.5L</td>\n",
       "      <td>₹ 11.0L</td>\n",
       "      <td>₹ 20.0L</td>\n",
       "    </tr>\n",
       "    <tr>\n",
       "      <th>8</th>\n",
       "      <td>(based on 10 salaries)</td>\n",
       "      <td>₹ 14.0L</td>\n",
       "      <td>₹ 12.0L</td>\n",
       "      <td>₹ 18.0L</td>\n",
       "    </tr>\n",
       "    <tr>\n",
       "      <th>9</th>\n",
       "      <td>(based on 14 salaries)</td>\n",
       "      <td>₹ 13.9L</td>\n",
       "      <td>₹ 8.8L</td>\n",
       "      <td>₹ 17.5L</td>\n",
       "    </tr>\n",
       "  </tbody>\n",
       "</table>\n",
       "</div>"
      ],
      "text/plain": [
       "            No_of_Salaries Average_Salary Minimum_Salary Maximum_Salary\n",
       "0   (based on 24 salaries)        ₹ 32.2L        ₹ 25.0L        ₹ 45.0L\n",
       "1   (based on 59 salaries)        ₹ 19.8L        ₹ 15.0L        ₹ 26.0L\n",
       "2   (based on 49 salaries)        ₹ 16.4L        ₹ 11.0L        ₹ 22.6L\n",
       "3   (based on 35 salaries)        ₹ 15.9L        ₹ 11.0L        ₹ 22.0L\n",
       "4  (based on 118 salaries)        ₹ 15.5L         ₹ 9.0L        ₹ 23.0L\n",
       "5   (based on 10 salaries)        ₹ 14.7L        ₹ 12.7L        ₹ 19.7L\n",
       "6   (based on 70 salaries)        ₹ 14.6L         ₹ 9.0L        ₹ 20.0L\n",
       "7   (based on 11 salaries)        ₹ 14.5L        ₹ 11.0L        ₹ 20.0L\n",
       "8   (based on 10 salaries)        ₹ 14.0L        ₹ 12.0L        ₹ 18.0L\n",
       "9   (based on 14 salaries)        ₹ 13.9L         ₹ 8.8L        ₹ 17.5L"
      ]
     },
     "execution_count": 22,
     "metadata": {},
     "output_type": "execute_result"
    }
   ],
   "source": [
    "df=pd.DataFrame({'No_of_Salaries':No_of_Sal,'Average_Salary':Avg_Sal,'Minimum_Salary':Min_Sal,'Maximum_Salary':Max_Sal})\n",
    "df"
   ]
  },
  {
   "cell_type": "code",
   "execution_count": null,
   "id": "bdbb5724",
   "metadata": {},
   "outputs": [],
   "source": []
  },
  {
   "cell_type": "code",
   "execution_count": null,
   "id": "d1c98e18",
   "metadata": {},
   "outputs": [],
   "source": []
  }
 ],
 "metadata": {
  "kernelspec": {
   "display_name": "Python 3 (ipykernel)",
   "language": "python",
   "name": "python3"
  },
  "language_info": {
   "codemirror_mode": {
    "name": "ipython",
    "version": 3
   },
   "file_extension": ".py",
   "mimetype": "text/x-python",
   "name": "python",
   "nbconvert_exporter": "python",
   "pygments_lexer": "ipython3",
   "version": "3.9.12"
  }
 },
 "nbformat": 4,
 "nbformat_minor": 5
}
