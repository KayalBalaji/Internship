{
 "cells": [
  {
   "cell_type": "markdown",
   "id": "5dcb22a9",
   "metadata": {},
   "source": [
    "# Factorial of a Number"
   ]
  },
  {
   "cell_type": "code",
   "execution_count": 1,
   "id": "cd9b8457",
   "metadata": {},
   "outputs": [
    {
     "name": "stdout",
     "output_type": "stream",
     "text": [
      "Enter Number = 4\n",
      "24 is the factorial of  4\n"
     ]
    }
   ],
   "source": [
    "s= int(input('Enter Number = '))\n",
    "factorial = 1\n",
    "if s<0:\n",
    "    print('There is no Factorial for this number')\n",
    "elif s == 0:\n",
    "    print('Factorial of 0 is 1')\n",
    "else:\n",
    "    for i in range(1,s+1):\n",
    "        factorial = factorial * i\n",
    "    print(factorial,'is the factorial of ',s)"
   ]
  },
  {
   "cell_type": "code",
   "execution_count": null,
   "id": "f58d271c",
   "metadata": {},
   "outputs": [],
   "source": []
  },
  {
   "cell_type": "markdown",
   "id": "cbc997ad",
   "metadata": {},
   "source": [
    "# Prime Number or Composite Number"
   ]
  },
  {
   "cell_type": "code",
   "execution_count": 2,
   "id": "e88d24c8",
   "metadata": {},
   "outputs": [
    {
     "name": "stdout",
     "output_type": "stream",
     "text": [
      "Enter number : 14\n",
      "14 is not a Prime number it is a Composite number\n"
     ]
    }
   ],
   "source": [
    "r = int(input(\"Enter number : \"))\n",
    "if r > 1:\n",
    "    for i in range(2, r):\n",
    "        if (r % i) == 0:\n",
    "            print(r, \"is not a Prime number it is a Composite number\")\n",
    "            break\n",
    "    else:\n",
    "        print(r, \"is a Prime number\")\n",
    "elif r == 0 or 1:\n",
    "    print(r, \"is a neither Prime number nor Composite number\")"
   ]
  },
  {
   "cell_type": "code",
   "execution_count": null,
   "id": "de64e9b2",
   "metadata": {},
   "outputs": [],
   "source": []
  },
  {
   "cell_type": "markdown",
   "id": "b88a651a",
   "metadata": {},
   "source": [
    "# Palindrome String"
   ]
  },
  {
   "cell_type": "code",
   "execution_count": 3,
   "id": "a8e6e353",
   "metadata": {},
   "outputs": [
    {
     "name": "stdout",
     "output_type": "stream",
     "text": [
      "No\n"
     ]
    }
   ],
   "source": [
    "def isPalindrome(str):\n",
    "    for i in range(0, int(len(str)/2)):\n",
    "        if str[i] != str[len(str)-i-1]:\n",
    "            return False\n",
    "        return True\n",
    "s = \"sarthak\"\n",
    "ans = isPalindrome(s)\n",
    "if (ans):\n",
    "    print(\"Yes\")\n",
    "else:\n",
    "    print(\"No\")"
   ]
  },
  {
   "cell_type": "code",
   "execution_count": null,
   "id": "2fe14eb8",
   "metadata": {},
   "outputs": [],
   "source": []
  },
  {
   "cell_type": "markdown",
   "id": "edd66ba1",
   "metadata": {},
   "source": [
    "# Third side of right-angled triangle from two given sides"
   ]
  },
  {
   "cell_type": "code",
   "execution_count": 5,
   "id": "f4cc85fc",
   "metadata": {},
   "outputs": [
    {
     "name": "stdout",
     "output_type": "stream",
     "text": [
      "Input lengths of shorter triangle sides:\n",
      "a : 9\n",
      "b : 8\n",
      "The length of the hypotenuse is: 12.041594578792296\n"
     ]
    }
   ],
   "source": [
    "from math import sqrt\n",
    "print(\"Input lengths of shorter triangle sides:\")\n",
    "a = float(input(\"a : \"))\n",
    "b = float(input(\"b : \"))\n",
    "c = sqrt(a**2 + b**2)\n",
    "print(\"The length of the hypotenuse is:\",c)"
   ]
  },
  {
   "cell_type": "code",
   "execution_count": null,
   "id": "40d41426",
   "metadata": {},
   "outputs": [],
   "source": []
  },
  {
   "cell_type": "markdown",
   "id": "97b4c27f",
   "metadata": {},
   "source": [
    "# Count Characters in string"
   ]
  },
  {
   "cell_type": "code",
   "execution_count": 4,
   "id": "b9a22366",
   "metadata": {},
   "outputs": [
    {
     "name": "stdout",
     "output_type": "stream",
     "text": [
      "Enter the string: KAYAL\n",
      "K,1\n",
      "A,2\n",
      "Y,1\n",
      "L,1\n"
     ]
    }
   ],
   "source": [
    "strglen=input(\"Enter the string: \")\n",
    "strng=list(strglen)\n",
    "strlist=[]\n",
    "for e in strng:\n",
    "    if e not in strlist:\n",
    "        strlist.append(e)\n",
    "        count=0\n",
    "        for i in range(len(strng)):\n",
    "            if e==strng[i]:\n",
    "                count+=1\n",
    "        print(\"{},{}\".format(e,count))"
   ]
  },
  {
   "cell_type": "code",
   "execution_count": null,
   "id": "61a62013",
   "metadata": {},
   "outputs": [],
   "source": []
  },
  {
   "cell_type": "code",
   "execution_count": null,
   "id": "03c09a0d",
   "metadata": {},
   "outputs": [],
   "source": []
  },
  {
   "cell_type": "code",
   "execution_count": null,
   "id": "cf19b213",
   "metadata": {},
   "outputs": [],
   "source": []
  },
  {
   "cell_type": "code",
   "execution_count": null,
   "id": "09a0eec0",
   "metadata": {},
   "outputs": [],
   "source": []
  },
  {
   "cell_type": "code",
   "execution_count": null,
   "id": "8461d1a3",
   "metadata": {},
   "outputs": [],
   "source": []
  }
 ],
 "metadata": {
  "kernelspec": {
   "display_name": "Python 3 (ipykernel)",
   "language": "python",
   "name": "python3"
  },
  "language_info": {
   "codemirror_mode": {
    "name": "ipython",
    "version": 3
   },
   "file_extension": ".py",
   "mimetype": "text/x-python",
   "name": "python",
   "nbconvert_exporter": "python",
   "pygments_lexer": "ipython3",
   "version": "3.9.12"
  }
 },
 "nbformat": 4,
 "nbformat_minor": 5
}
